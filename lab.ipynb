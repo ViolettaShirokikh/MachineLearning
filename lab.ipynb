{
 "cells": [
  {
   "cell_type": "code",
   "execution_count": 1,
   "metadata": {},
   "outputs": [],
   "source": [
    "import numpy as np\n",
    "import matplotlib.pyplot as plt\n",
    "import pandas as pd\n",
    "%matplotlib inline"
   ]
  },
  {
   "cell_type": "code",
   "execution_count": 2,
   "metadata": {},
   "outputs": [],
   "source": [
    "data = pd.read_csv('D:/University/ML/heroes_information.csv', sep = ',',engine = 'python')"
   ]
  },
  {
   "cell_type": "code",
   "execution_count": 3,
   "metadata": {},
   "outputs": [
    {
     "data": {
      "text/plain": [
       "pandas.core.frame.DataFrame"
      ]
     },
     "execution_count": 3,
     "metadata": {},
     "output_type": "execute_result"
    }
   ],
   "source": [
    "type(data)"
   ]
  },
  {
   "cell_type": "markdown",
   "metadata": {},
   "source": [
    "###### Набор данных включает в себя:\n",
    "* name - имя супергероя \n",
    "* Gender - пол \n",
    "* Eye color - цвет глаз\n",
    "* Race - раса\n",
    "* Hair color - цвет волос\n",
    "* Height - рост\n",
    "* Publisher - издательство\n",
    "* Skin color - цвет кожи\n",
    "* Alignment - принадлежность добро\\зло\n",
    "* Weight - вес"
   ]
  },
  {
   "cell_type": "code",
   "execution_count": 4,
   "metadata": {},
   "outputs": [
    {
     "data": {
      "text/html": [
       "<div>\n",
       "<style scoped>\n",
       "    .dataframe tbody tr th:only-of-type {\n",
       "        vertical-align: middle;\n",
       "    }\n",
       "\n",
       "    .dataframe tbody tr th {\n",
       "        vertical-align: top;\n",
       "    }\n",
       "\n",
       "    .dataframe thead th {\n",
       "        text-align: right;\n",
       "    }\n",
       "</style>\n",
       "<table border=\"1\" class=\"dataframe\">\n",
       "  <thead>\n",
       "    <tr style=\"text-align: right;\">\n",
       "      <th></th>\n",
       "      <th>Unnamed: 0</th>\n",
       "      <th>name</th>\n",
       "      <th>Gender</th>\n",
       "      <th>Eye color</th>\n",
       "      <th>Race</th>\n",
       "      <th>Hair color</th>\n",
       "      <th>Height</th>\n",
       "      <th>Publisher</th>\n",
       "      <th>Skin color</th>\n",
       "      <th>Alignment</th>\n",
       "      <th>Weight</th>\n",
       "    </tr>\n",
       "  </thead>\n",
       "  <tbody>\n",
       "    <tr>\n",
       "      <th>0</th>\n",
       "      <td>0</td>\n",
       "      <td>A-Bomb</td>\n",
       "      <td>Male</td>\n",
       "      <td>yellow</td>\n",
       "      <td>Human</td>\n",
       "      <td>No Hair</td>\n",
       "      <td>203.0</td>\n",
       "      <td>Marvel Comics</td>\n",
       "      <td>-</td>\n",
       "      <td>good</td>\n",
       "      <td>441.0</td>\n",
       "    </tr>\n",
       "    <tr>\n",
       "      <th>1</th>\n",
       "      <td>1</td>\n",
       "      <td>Abe Sapien</td>\n",
       "      <td>Male</td>\n",
       "      <td>blue</td>\n",
       "      <td>Icthyo Sapien</td>\n",
       "      <td>No Hair</td>\n",
       "      <td>191.0</td>\n",
       "      <td>Dark Horse Comics</td>\n",
       "      <td>blue</td>\n",
       "      <td>good</td>\n",
       "      <td>65.0</td>\n",
       "    </tr>\n",
       "    <tr>\n",
       "      <th>2</th>\n",
       "      <td>2</td>\n",
       "      <td>Abin Sur</td>\n",
       "      <td>Male</td>\n",
       "      <td>blue</td>\n",
       "      <td>Ungaran</td>\n",
       "      <td>No Hair</td>\n",
       "      <td>185.0</td>\n",
       "      <td>DC Comics</td>\n",
       "      <td>red</td>\n",
       "      <td>good</td>\n",
       "      <td>90.0</td>\n",
       "    </tr>\n",
       "    <tr>\n",
       "      <th>3</th>\n",
       "      <td>3</td>\n",
       "      <td>Abomination</td>\n",
       "      <td>Male</td>\n",
       "      <td>green</td>\n",
       "      <td>Human / Radiation</td>\n",
       "      <td>No Hair</td>\n",
       "      <td>203.0</td>\n",
       "      <td>Marvel Comics</td>\n",
       "      <td>-</td>\n",
       "      <td>bad</td>\n",
       "      <td>441.0</td>\n",
       "    </tr>\n",
       "    <tr>\n",
       "      <th>4</th>\n",
       "      <td>4</td>\n",
       "      <td>Abraxas</td>\n",
       "      <td>Male</td>\n",
       "      <td>blue</td>\n",
       "      <td>Cosmic Entity</td>\n",
       "      <td>Black</td>\n",
       "      <td>-99.0</td>\n",
       "      <td>Marvel Comics</td>\n",
       "      <td>-</td>\n",
       "      <td>bad</td>\n",
       "      <td>-99.0</td>\n",
       "    </tr>\n",
       "    <tr>\n",
       "      <th>5</th>\n",
       "      <td>5</td>\n",
       "      <td>Absorbing Man</td>\n",
       "      <td>Male</td>\n",
       "      <td>blue</td>\n",
       "      <td>Human</td>\n",
       "      <td>No Hair</td>\n",
       "      <td>193.0</td>\n",
       "      <td>Marvel Comics</td>\n",
       "      <td>-</td>\n",
       "      <td>bad</td>\n",
       "      <td>122.0</td>\n",
       "    </tr>\n",
       "    <tr>\n",
       "      <th>6</th>\n",
       "      <td>6</td>\n",
       "      <td>Adam Monroe</td>\n",
       "      <td>Male</td>\n",
       "      <td>blue</td>\n",
       "      <td>-</td>\n",
       "      <td>Blond</td>\n",
       "      <td>-99.0</td>\n",
       "      <td>NBC - Heroes</td>\n",
       "      <td>-</td>\n",
       "      <td>good</td>\n",
       "      <td>-99.0</td>\n",
       "    </tr>\n",
       "    <tr>\n",
       "      <th>7</th>\n",
       "      <td>7</td>\n",
       "      <td>Adam Strange</td>\n",
       "      <td>Male</td>\n",
       "      <td>blue</td>\n",
       "      <td>Human</td>\n",
       "      <td>Blond</td>\n",
       "      <td>185.0</td>\n",
       "      <td>DC Comics</td>\n",
       "      <td>-</td>\n",
       "      <td>good</td>\n",
       "      <td>88.0</td>\n",
       "    </tr>\n",
       "    <tr>\n",
       "      <th>8</th>\n",
       "      <td>8</td>\n",
       "      <td>Agent 13</td>\n",
       "      <td>Female</td>\n",
       "      <td>blue</td>\n",
       "      <td>-</td>\n",
       "      <td>Blond</td>\n",
       "      <td>173.0</td>\n",
       "      <td>Marvel Comics</td>\n",
       "      <td>-</td>\n",
       "      <td>good</td>\n",
       "      <td>61.0</td>\n",
       "    </tr>\n",
       "    <tr>\n",
       "      <th>9</th>\n",
       "      <td>9</td>\n",
       "      <td>Agent Bob</td>\n",
       "      <td>Male</td>\n",
       "      <td>brown</td>\n",
       "      <td>Human</td>\n",
       "      <td>Brown</td>\n",
       "      <td>178.0</td>\n",
       "      <td>Marvel Comics</td>\n",
       "      <td>-</td>\n",
       "      <td>good</td>\n",
       "      <td>81.0</td>\n",
       "    </tr>\n",
       "    <tr>\n",
       "      <th>10</th>\n",
       "      <td>10</td>\n",
       "      <td>Agent Zero</td>\n",
       "      <td>Male</td>\n",
       "      <td>-</td>\n",
       "      <td>-</td>\n",
       "      <td>-</td>\n",
       "      <td>191.0</td>\n",
       "      <td>Marvel Comics</td>\n",
       "      <td>-</td>\n",
       "      <td>good</td>\n",
       "      <td>104.0</td>\n",
       "    </tr>\n",
       "    <tr>\n",
       "      <th>11</th>\n",
       "      <td>11</td>\n",
       "      <td>Air-Walker</td>\n",
       "      <td>Male</td>\n",
       "      <td>blue</td>\n",
       "      <td>-</td>\n",
       "      <td>White</td>\n",
       "      <td>188.0</td>\n",
       "      <td>Marvel Comics</td>\n",
       "      <td>-</td>\n",
       "      <td>bad</td>\n",
       "      <td>108.0</td>\n",
       "    </tr>\n",
       "    <tr>\n",
       "      <th>12</th>\n",
       "      <td>12</td>\n",
       "      <td>Ajax</td>\n",
       "      <td>Male</td>\n",
       "      <td>brown</td>\n",
       "      <td>Cyborg</td>\n",
       "      <td>Black</td>\n",
       "      <td>193.0</td>\n",
       "      <td>Marvel Comics</td>\n",
       "      <td>-</td>\n",
       "      <td>bad</td>\n",
       "      <td>90.0</td>\n",
       "    </tr>\n",
       "    <tr>\n",
       "      <th>13</th>\n",
       "      <td>13</td>\n",
       "      <td>Alan Scott</td>\n",
       "      <td>Male</td>\n",
       "      <td>blue</td>\n",
       "      <td>-</td>\n",
       "      <td>Blond</td>\n",
       "      <td>180.0</td>\n",
       "      <td>DC Comics</td>\n",
       "      <td>-</td>\n",
       "      <td>good</td>\n",
       "      <td>90.0</td>\n",
       "    </tr>\n",
       "    <tr>\n",
       "      <th>14</th>\n",
       "      <td>14</td>\n",
       "      <td>Alex Mercer</td>\n",
       "      <td>Male</td>\n",
       "      <td>-</td>\n",
       "      <td>Human</td>\n",
       "      <td>-</td>\n",
       "      <td>-99.0</td>\n",
       "      <td>Wildstorm</td>\n",
       "      <td>-</td>\n",
       "      <td>bad</td>\n",
       "      <td>-99.0</td>\n",
       "    </tr>\n",
       "    <tr>\n",
       "      <th>15</th>\n",
       "      <td>15</td>\n",
       "      <td>Alex Woolsly</td>\n",
       "      <td>Male</td>\n",
       "      <td>-</td>\n",
       "      <td>-</td>\n",
       "      <td>-</td>\n",
       "      <td>-99.0</td>\n",
       "      <td>NBC - Heroes</td>\n",
       "      <td>-</td>\n",
       "      <td>good</td>\n",
       "      <td>-99.0</td>\n",
       "    </tr>\n",
       "    <tr>\n",
       "      <th>16</th>\n",
       "      <td>16</td>\n",
       "      <td>Alfred Pennyworth</td>\n",
       "      <td>Male</td>\n",
       "      <td>blue</td>\n",
       "      <td>Human</td>\n",
       "      <td>Black</td>\n",
       "      <td>178.0</td>\n",
       "      <td>DC Comics</td>\n",
       "      <td>-</td>\n",
       "      <td>good</td>\n",
       "      <td>72.0</td>\n",
       "    </tr>\n",
       "    <tr>\n",
       "      <th>17</th>\n",
       "      <td>17</td>\n",
       "      <td>Alien</td>\n",
       "      <td>Male</td>\n",
       "      <td>-</td>\n",
       "      <td>Xenomorph XX121</td>\n",
       "      <td>No Hair</td>\n",
       "      <td>244.0</td>\n",
       "      <td>Dark Horse Comics</td>\n",
       "      <td>black</td>\n",
       "      <td>bad</td>\n",
       "      <td>169.0</td>\n",
       "    </tr>\n",
       "    <tr>\n",
       "      <th>18</th>\n",
       "      <td>18</td>\n",
       "      <td>Allan Quatermain</td>\n",
       "      <td>Male</td>\n",
       "      <td>-</td>\n",
       "      <td>-</td>\n",
       "      <td>-</td>\n",
       "      <td>-99.0</td>\n",
       "      <td>Wildstorm</td>\n",
       "      <td>-</td>\n",
       "      <td>good</td>\n",
       "      <td>-99.0</td>\n",
       "    </tr>\n",
       "    <tr>\n",
       "      <th>19</th>\n",
       "      <td>19</td>\n",
       "      <td>Amazo</td>\n",
       "      <td>Male</td>\n",
       "      <td>red</td>\n",
       "      <td>Android</td>\n",
       "      <td>-</td>\n",
       "      <td>257.0</td>\n",
       "      <td>DC Comics</td>\n",
       "      <td>-</td>\n",
       "      <td>bad</td>\n",
       "      <td>173.0</td>\n",
       "    </tr>\n",
       "    <tr>\n",
       "      <th>20</th>\n",
       "      <td>20</td>\n",
       "      <td>Ammo</td>\n",
       "      <td>Male</td>\n",
       "      <td>brown</td>\n",
       "      <td>Human</td>\n",
       "      <td>Black</td>\n",
       "      <td>188.0</td>\n",
       "      <td>Marvel Comics</td>\n",
       "      <td>-</td>\n",
       "      <td>bad</td>\n",
       "      <td>101.0</td>\n",
       "    </tr>\n",
       "    <tr>\n",
       "      <th>21</th>\n",
       "      <td>21</td>\n",
       "      <td>Ando Masahashi</td>\n",
       "      <td>Male</td>\n",
       "      <td>-</td>\n",
       "      <td>-</td>\n",
       "      <td>-</td>\n",
       "      <td>-99.0</td>\n",
       "      <td>NBC - Heroes</td>\n",
       "      <td>-</td>\n",
       "      <td>good</td>\n",
       "      <td>-99.0</td>\n",
       "    </tr>\n",
       "    <tr>\n",
       "      <th>22</th>\n",
       "      <td>22</td>\n",
       "      <td>Angel</td>\n",
       "      <td>Male</td>\n",
       "      <td>blue</td>\n",
       "      <td>-</td>\n",
       "      <td>Blond</td>\n",
       "      <td>183.0</td>\n",
       "      <td>Marvel Comics</td>\n",
       "      <td>-</td>\n",
       "      <td>good</td>\n",
       "      <td>68.0</td>\n",
       "    </tr>\n",
       "    <tr>\n",
       "      <th>23</th>\n",
       "      <td>23</td>\n",
       "      <td>Angel</td>\n",
       "      <td>Male</td>\n",
       "      <td>-</td>\n",
       "      <td>Vampire</td>\n",
       "      <td>-</td>\n",
       "      <td>-99.0</td>\n",
       "      <td>Dark Horse Comics</td>\n",
       "      <td>-</td>\n",
       "      <td>good</td>\n",
       "      <td>-99.0</td>\n",
       "    </tr>\n",
       "    <tr>\n",
       "      <th>24</th>\n",
       "      <td>24</td>\n",
       "      <td>Angel Dust</td>\n",
       "      <td>Female</td>\n",
       "      <td>yellow</td>\n",
       "      <td>Mutant</td>\n",
       "      <td>Black</td>\n",
       "      <td>165.0</td>\n",
       "      <td>Marvel Comics</td>\n",
       "      <td>-</td>\n",
       "      <td>good</td>\n",
       "      <td>57.0</td>\n",
       "    </tr>\n",
       "    <tr>\n",
       "      <th>25</th>\n",
       "      <td>25</td>\n",
       "      <td>Angel Salvadore</td>\n",
       "      <td>Female</td>\n",
       "      <td>brown</td>\n",
       "      <td>-</td>\n",
       "      <td>Black</td>\n",
       "      <td>163.0</td>\n",
       "      <td>Marvel Comics</td>\n",
       "      <td>-</td>\n",
       "      <td>good</td>\n",
       "      <td>54.0</td>\n",
       "    </tr>\n",
       "    <tr>\n",
       "      <th>26</th>\n",
       "      <td>26</td>\n",
       "      <td>Angela</td>\n",
       "      <td>Female</td>\n",
       "      <td>-</td>\n",
       "      <td>-</td>\n",
       "      <td>-</td>\n",
       "      <td>-99.0</td>\n",
       "      <td>Image Comics</td>\n",
       "      <td>-</td>\n",
       "      <td>bad</td>\n",
       "      <td>-99.0</td>\n",
       "    </tr>\n",
       "    <tr>\n",
       "      <th>27</th>\n",
       "      <td>27</td>\n",
       "      <td>Animal Man</td>\n",
       "      <td>Male</td>\n",
       "      <td>blue</td>\n",
       "      <td>Human</td>\n",
       "      <td>Blond</td>\n",
       "      <td>183.0</td>\n",
       "      <td>DC Comics</td>\n",
       "      <td>-</td>\n",
       "      <td>good</td>\n",
       "      <td>83.0</td>\n",
       "    </tr>\n",
       "    <tr>\n",
       "      <th>28</th>\n",
       "      <td>28</td>\n",
       "      <td>Annihilus</td>\n",
       "      <td>Male</td>\n",
       "      <td>green</td>\n",
       "      <td>-</td>\n",
       "      <td>No Hair</td>\n",
       "      <td>180.0</td>\n",
       "      <td>Marvel Comics</td>\n",
       "      <td>-</td>\n",
       "      <td>bad</td>\n",
       "      <td>90.0</td>\n",
       "    </tr>\n",
       "    <tr>\n",
       "      <th>29</th>\n",
       "      <td>29</td>\n",
       "      <td>Ant-Man</td>\n",
       "      <td>Male</td>\n",
       "      <td>blue</td>\n",
       "      <td>Human</td>\n",
       "      <td>Blond</td>\n",
       "      <td>211.0</td>\n",
       "      <td>Marvel Comics</td>\n",
       "      <td>-</td>\n",
       "      <td>good</td>\n",
       "      <td>122.0</td>\n",
       "    </tr>\n",
       "    <tr>\n",
       "      <th>...</th>\n",
       "      <td>...</td>\n",
       "      <td>...</td>\n",
       "      <td>...</td>\n",
       "      <td>...</td>\n",
       "      <td>...</td>\n",
       "      <td>...</td>\n",
       "      <td>...</td>\n",
       "      <td>...</td>\n",
       "      <td>...</td>\n",
       "      <td>...</td>\n",
       "      <td>...</td>\n",
       "    </tr>\n",
       "    <tr>\n",
       "      <th>704</th>\n",
       "      <td>704</td>\n",
       "      <td>Walrus</td>\n",
       "      <td>Male</td>\n",
       "      <td>blue</td>\n",
       "      <td>Human</td>\n",
       "      <td>Black</td>\n",
       "      <td>183.0</td>\n",
       "      <td>Marvel Comics</td>\n",
       "      <td>-</td>\n",
       "      <td>bad</td>\n",
       "      <td>162.0</td>\n",
       "    </tr>\n",
       "    <tr>\n",
       "      <th>705</th>\n",
       "      <td>705</td>\n",
       "      <td>War Machine</td>\n",
       "      <td>Male</td>\n",
       "      <td>brown</td>\n",
       "      <td>Human</td>\n",
       "      <td>Brown</td>\n",
       "      <td>185.0</td>\n",
       "      <td>Marvel Comics</td>\n",
       "      <td>-</td>\n",
       "      <td>good</td>\n",
       "      <td>95.0</td>\n",
       "    </tr>\n",
       "    <tr>\n",
       "      <th>706</th>\n",
       "      <td>706</td>\n",
       "      <td>Warbird</td>\n",
       "      <td>Female</td>\n",
       "      <td>blue</td>\n",
       "      <td>-</td>\n",
       "      <td>Blond</td>\n",
       "      <td>180.0</td>\n",
       "      <td>Marvel Comics</td>\n",
       "      <td>-</td>\n",
       "      <td>good</td>\n",
       "      <td>54.0</td>\n",
       "    </tr>\n",
       "    <tr>\n",
       "      <th>707</th>\n",
       "      <td>707</td>\n",
       "      <td>Warlock</td>\n",
       "      <td>Male</td>\n",
       "      <td>red</td>\n",
       "      <td>-</td>\n",
       "      <td>Blond</td>\n",
       "      <td>188.0</td>\n",
       "      <td>Marvel Comics</td>\n",
       "      <td>-</td>\n",
       "      <td>good</td>\n",
       "      <td>108.0</td>\n",
       "    </tr>\n",
       "    <tr>\n",
       "      <th>708</th>\n",
       "      <td>708</td>\n",
       "      <td>Warp</td>\n",
       "      <td>Male</td>\n",
       "      <td>brown</td>\n",
       "      <td>-</td>\n",
       "      <td>Black</td>\n",
       "      <td>173.0</td>\n",
       "      <td>DC Comics</td>\n",
       "      <td>-</td>\n",
       "      <td>bad</td>\n",
       "      <td>67.0</td>\n",
       "    </tr>\n",
       "    <tr>\n",
       "      <th>709</th>\n",
       "      <td>709</td>\n",
       "      <td>Warpath</td>\n",
       "      <td>Male</td>\n",
       "      <td>brown</td>\n",
       "      <td>Mutant</td>\n",
       "      <td>Black</td>\n",
       "      <td>218.0</td>\n",
       "      <td>Marvel Comics</td>\n",
       "      <td>-</td>\n",
       "      <td>good</td>\n",
       "      <td>158.0</td>\n",
       "    </tr>\n",
       "    <tr>\n",
       "      <th>710</th>\n",
       "      <td>710</td>\n",
       "      <td>Wasp</td>\n",
       "      <td>Female</td>\n",
       "      <td>blue</td>\n",
       "      <td>Human</td>\n",
       "      <td>Auburn</td>\n",
       "      <td>163.0</td>\n",
       "      <td>Marvel Comics</td>\n",
       "      <td>-</td>\n",
       "      <td>good</td>\n",
       "      <td>50.0</td>\n",
       "    </tr>\n",
       "    <tr>\n",
       "      <th>711</th>\n",
       "      <td>711</td>\n",
       "      <td>Watcher</td>\n",
       "      <td>Male</td>\n",
       "      <td>-</td>\n",
       "      <td>-</td>\n",
       "      <td>-</td>\n",
       "      <td>-99.0</td>\n",
       "      <td>Marvel Comics</td>\n",
       "      <td>-</td>\n",
       "      <td>good</td>\n",
       "      <td>-99.0</td>\n",
       "    </tr>\n",
       "    <tr>\n",
       "      <th>712</th>\n",
       "      <td>712</td>\n",
       "      <td>Weapon XI</td>\n",
       "      <td>Male</td>\n",
       "      <td>-</td>\n",
       "      <td>-</td>\n",
       "      <td>-</td>\n",
       "      <td>-99.0</td>\n",
       "      <td>Marvel Comics</td>\n",
       "      <td>-</td>\n",
       "      <td>bad</td>\n",
       "      <td>-99.0</td>\n",
       "    </tr>\n",
       "    <tr>\n",
       "      <th>713</th>\n",
       "      <td>713</td>\n",
       "      <td>White Canary</td>\n",
       "      <td>Female</td>\n",
       "      <td>brown</td>\n",
       "      <td>Human</td>\n",
       "      <td>Black</td>\n",
       "      <td>-99.0</td>\n",
       "      <td>DC Comics</td>\n",
       "      <td>-</td>\n",
       "      <td>bad</td>\n",
       "      <td>-99.0</td>\n",
       "    </tr>\n",
       "    <tr>\n",
       "      <th>714</th>\n",
       "      <td>714</td>\n",
       "      <td>White Queen</td>\n",
       "      <td>Female</td>\n",
       "      <td>blue</td>\n",
       "      <td>-</td>\n",
       "      <td>Blond</td>\n",
       "      <td>178.0</td>\n",
       "      <td>Marvel Comics</td>\n",
       "      <td>-</td>\n",
       "      <td>good</td>\n",
       "      <td>65.0</td>\n",
       "    </tr>\n",
       "    <tr>\n",
       "      <th>715</th>\n",
       "      <td>715</td>\n",
       "      <td>Wildfire</td>\n",
       "      <td>Male</td>\n",
       "      <td>-</td>\n",
       "      <td>-</td>\n",
       "      <td>-</td>\n",
       "      <td>-99.0</td>\n",
       "      <td>DC Comics</td>\n",
       "      <td>-</td>\n",
       "      <td>good</td>\n",
       "      <td>-99.0</td>\n",
       "    </tr>\n",
       "    <tr>\n",
       "      <th>716</th>\n",
       "      <td>716</td>\n",
       "      <td>Winter Soldier</td>\n",
       "      <td>Male</td>\n",
       "      <td>brown</td>\n",
       "      <td>Human</td>\n",
       "      <td>Brown</td>\n",
       "      <td>175.0</td>\n",
       "      <td>Marvel Comics</td>\n",
       "      <td>-</td>\n",
       "      <td>good</td>\n",
       "      <td>117.0</td>\n",
       "    </tr>\n",
       "    <tr>\n",
       "      <th>717</th>\n",
       "      <td>717</td>\n",
       "      <td>Wiz Kid</td>\n",
       "      <td>Female</td>\n",
       "      <td>brown</td>\n",
       "      <td>-</td>\n",
       "      <td>Black</td>\n",
       "      <td>140.0</td>\n",
       "      <td>Marvel Comics</td>\n",
       "      <td>-</td>\n",
       "      <td>good</td>\n",
       "      <td>39.0</td>\n",
       "    </tr>\n",
       "    <tr>\n",
       "      <th>718</th>\n",
       "      <td>718</td>\n",
       "      <td>Wolfsbane</td>\n",
       "      <td>Female</td>\n",
       "      <td>green</td>\n",
       "      <td>-</td>\n",
       "      <td>Auburn</td>\n",
       "      <td>366.0</td>\n",
       "      <td>Marvel Comics</td>\n",
       "      <td>-</td>\n",
       "      <td>good</td>\n",
       "      <td>473.0</td>\n",
       "    </tr>\n",
       "    <tr>\n",
       "      <th>719</th>\n",
       "      <td>719</td>\n",
       "      <td>Wolverine</td>\n",
       "      <td>Male</td>\n",
       "      <td>blue</td>\n",
       "      <td>Mutant</td>\n",
       "      <td>Black</td>\n",
       "      <td>160.0</td>\n",
       "      <td>Marvel Comics</td>\n",
       "      <td>-</td>\n",
       "      <td>good</td>\n",
       "      <td>135.0</td>\n",
       "    </tr>\n",
       "    <tr>\n",
       "      <th>720</th>\n",
       "      <td>720</td>\n",
       "      <td>Wonder Girl</td>\n",
       "      <td>Female</td>\n",
       "      <td>blue</td>\n",
       "      <td>Demi-God</td>\n",
       "      <td>Blond</td>\n",
       "      <td>165.0</td>\n",
       "      <td>DC Comics</td>\n",
       "      <td>-</td>\n",
       "      <td>good</td>\n",
       "      <td>51.0</td>\n",
       "    </tr>\n",
       "    <tr>\n",
       "      <th>721</th>\n",
       "      <td>721</td>\n",
       "      <td>Wonder Man</td>\n",
       "      <td>Male</td>\n",
       "      <td>red</td>\n",
       "      <td>-</td>\n",
       "      <td>Black</td>\n",
       "      <td>188.0</td>\n",
       "      <td>Marvel Comics</td>\n",
       "      <td>-</td>\n",
       "      <td>good</td>\n",
       "      <td>171.0</td>\n",
       "    </tr>\n",
       "    <tr>\n",
       "      <th>722</th>\n",
       "      <td>722</td>\n",
       "      <td>Wonder Woman</td>\n",
       "      <td>Female</td>\n",
       "      <td>blue</td>\n",
       "      <td>Amazon</td>\n",
       "      <td>Black</td>\n",
       "      <td>183.0</td>\n",
       "      <td>DC Comics</td>\n",
       "      <td>-</td>\n",
       "      <td>good</td>\n",
       "      <td>74.0</td>\n",
       "    </tr>\n",
       "    <tr>\n",
       "      <th>723</th>\n",
       "      <td>723</td>\n",
       "      <td>Wondra</td>\n",
       "      <td>Female</td>\n",
       "      <td>-</td>\n",
       "      <td>-</td>\n",
       "      <td>-</td>\n",
       "      <td>-99.0</td>\n",
       "      <td>Marvel Comics</td>\n",
       "      <td>-</td>\n",
       "      <td>good</td>\n",
       "      <td>-99.0</td>\n",
       "    </tr>\n",
       "    <tr>\n",
       "      <th>724</th>\n",
       "      <td>724</td>\n",
       "      <td>Wyatt Wingfoot</td>\n",
       "      <td>Male</td>\n",
       "      <td>brown</td>\n",
       "      <td>-</td>\n",
       "      <td>Black</td>\n",
       "      <td>196.0</td>\n",
       "      <td>Marvel Comics</td>\n",
       "      <td>-</td>\n",
       "      <td>good</td>\n",
       "      <td>117.0</td>\n",
       "    </tr>\n",
       "    <tr>\n",
       "      <th>725</th>\n",
       "      <td>725</td>\n",
       "      <td>X-23</td>\n",
       "      <td>Female</td>\n",
       "      <td>green</td>\n",
       "      <td>Mutant / Clone</td>\n",
       "      <td>Black</td>\n",
       "      <td>155.0</td>\n",
       "      <td>Marvel Comics</td>\n",
       "      <td>-</td>\n",
       "      <td>good</td>\n",
       "      <td>50.0</td>\n",
       "    </tr>\n",
       "    <tr>\n",
       "      <th>726</th>\n",
       "      <td>726</td>\n",
       "      <td>X-Man</td>\n",
       "      <td>Male</td>\n",
       "      <td>blue</td>\n",
       "      <td>-</td>\n",
       "      <td>Brown</td>\n",
       "      <td>175.0</td>\n",
       "      <td>Marvel Comics</td>\n",
       "      <td>-</td>\n",
       "      <td>good</td>\n",
       "      <td>61.0</td>\n",
       "    </tr>\n",
       "    <tr>\n",
       "      <th>727</th>\n",
       "      <td>727</td>\n",
       "      <td>Yellow Claw</td>\n",
       "      <td>Male</td>\n",
       "      <td>blue</td>\n",
       "      <td>-</td>\n",
       "      <td>No Hair</td>\n",
       "      <td>188.0</td>\n",
       "      <td>Marvel Comics</td>\n",
       "      <td>-</td>\n",
       "      <td>bad</td>\n",
       "      <td>95.0</td>\n",
       "    </tr>\n",
       "    <tr>\n",
       "      <th>728</th>\n",
       "      <td>728</td>\n",
       "      <td>Yellowjacket</td>\n",
       "      <td>Male</td>\n",
       "      <td>blue</td>\n",
       "      <td>Human</td>\n",
       "      <td>Blond</td>\n",
       "      <td>183.0</td>\n",
       "      <td>Marvel Comics</td>\n",
       "      <td>-</td>\n",
       "      <td>good</td>\n",
       "      <td>83.0</td>\n",
       "    </tr>\n",
       "    <tr>\n",
       "      <th>729</th>\n",
       "      <td>729</td>\n",
       "      <td>Yellowjacket II</td>\n",
       "      <td>Female</td>\n",
       "      <td>blue</td>\n",
       "      <td>Human</td>\n",
       "      <td>Strawberry Blond</td>\n",
       "      <td>165.0</td>\n",
       "      <td>Marvel Comics</td>\n",
       "      <td>-</td>\n",
       "      <td>good</td>\n",
       "      <td>52.0</td>\n",
       "    </tr>\n",
       "    <tr>\n",
       "      <th>730</th>\n",
       "      <td>730</td>\n",
       "      <td>Ymir</td>\n",
       "      <td>Male</td>\n",
       "      <td>white</td>\n",
       "      <td>Frost Giant</td>\n",
       "      <td>No Hair</td>\n",
       "      <td>304.8</td>\n",
       "      <td>Marvel Comics</td>\n",
       "      <td>white</td>\n",
       "      <td>good</td>\n",
       "      <td>-99.0</td>\n",
       "    </tr>\n",
       "    <tr>\n",
       "      <th>731</th>\n",
       "      <td>731</td>\n",
       "      <td>Yoda</td>\n",
       "      <td>Male</td>\n",
       "      <td>brown</td>\n",
       "      <td>Yoda's species</td>\n",
       "      <td>White</td>\n",
       "      <td>66.0</td>\n",
       "      <td>George Lucas</td>\n",
       "      <td>green</td>\n",
       "      <td>good</td>\n",
       "      <td>17.0</td>\n",
       "    </tr>\n",
       "    <tr>\n",
       "      <th>732</th>\n",
       "      <td>732</td>\n",
       "      <td>Zatanna</td>\n",
       "      <td>Female</td>\n",
       "      <td>blue</td>\n",
       "      <td>Human</td>\n",
       "      <td>Black</td>\n",
       "      <td>170.0</td>\n",
       "      <td>DC Comics</td>\n",
       "      <td>-</td>\n",
       "      <td>good</td>\n",
       "      <td>57.0</td>\n",
       "    </tr>\n",
       "    <tr>\n",
       "      <th>733</th>\n",
       "      <td>733</td>\n",
       "      <td>Zoom</td>\n",
       "      <td>Male</td>\n",
       "      <td>red</td>\n",
       "      <td>-</td>\n",
       "      <td>Brown</td>\n",
       "      <td>185.0</td>\n",
       "      <td>DC Comics</td>\n",
       "      <td>-</td>\n",
       "      <td>bad</td>\n",
       "      <td>81.0</td>\n",
       "    </tr>\n",
       "  </tbody>\n",
       "</table>\n",
       "<p>734 rows × 11 columns</p>\n",
       "</div>"
      ],
      "text/plain": [
       "     Unnamed: 0               name  Gender Eye color               Race  \\\n",
       "0             0             A-Bomb    Male    yellow              Human   \n",
       "1             1         Abe Sapien    Male      blue      Icthyo Sapien   \n",
       "2             2           Abin Sur    Male      blue            Ungaran   \n",
       "3             3        Abomination    Male     green  Human / Radiation   \n",
       "4             4            Abraxas    Male      blue      Cosmic Entity   \n",
       "5             5      Absorbing Man    Male      blue              Human   \n",
       "6             6        Adam Monroe    Male      blue                  -   \n",
       "7             7       Adam Strange    Male      blue              Human   \n",
       "8             8           Agent 13  Female      blue                  -   \n",
       "9             9          Agent Bob    Male     brown              Human   \n",
       "10           10         Agent Zero    Male         -                  -   \n",
       "11           11         Air-Walker    Male      blue                  -   \n",
       "12           12               Ajax    Male     brown             Cyborg   \n",
       "13           13         Alan Scott    Male      blue                  -   \n",
       "14           14        Alex Mercer    Male         -              Human   \n",
       "15           15       Alex Woolsly    Male         -                  -   \n",
       "16           16  Alfred Pennyworth    Male      blue              Human   \n",
       "17           17              Alien    Male         -    Xenomorph XX121   \n",
       "18           18   Allan Quatermain    Male         -                  -   \n",
       "19           19              Amazo    Male       red            Android   \n",
       "20           20               Ammo    Male     brown              Human   \n",
       "21           21     Ando Masahashi    Male         -                  -   \n",
       "22           22              Angel    Male      blue                  -   \n",
       "23           23              Angel    Male         -            Vampire   \n",
       "24           24         Angel Dust  Female    yellow             Mutant   \n",
       "25           25    Angel Salvadore  Female     brown                  -   \n",
       "26           26             Angela  Female         -                  -   \n",
       "27           27         Animal Man    Male      blue              Human   \n",
       "28           28          Annihilus    Male     green                  -   \n",
       "29           29            Ant-Man    Male      blue              Human   \n",
       "..          ...                ...     ...       ...                ...   \n",
       "704         704             Walrus    Male      blue              Human   \n",
       "705         705        War Machine    Male     brown              Human   \n",
       "706         706            Warbird  Female      blue                  -   \n",
       "707         707            Warlock    Male       red                  -   \n",
       "708         708               Warp    Male     brown                  -   \n",
       "709         709            Warpath    Male     brown             Mutant   \n",
       "710         710               Wasp  Female      blue              Human   \n",
       "711         711            Watcher    Male         -                  -   \n",
       "712         712          Weapon XI    Male         -                  -   \n",
       "713         713       White Canary  Female     brown              Human   \n",
       "714         714        White Queen  Female      blue                  -   \n",
       "715         715           Wildfire    Male         -                  -   \n",
       "716         716     Winter Soldier    Male     brown              Human   \n",
       "717         717            Wiz Kid  Female     brown                  -   \n",
       "718         718          Wolfsbane  Female     green                  -   \n",
       "719         719          Wolverine    Male      blue             Mutant   \n",
       "720         720        Wonder Girl  Female      blue           Demi-God   \n",
       "721         721         Wonder Man    Male       red                  -   \n",
       "722         722       Wonder Woman  Female      blue             Amazon   \n",
       "723         723             Wondra  Female         -                  -   \n",
       "724         724     Wyatt Wingfoot    Male     brown                  -   \n",
       "725         725               X-23  Female     green     Mutant / Clone   \n",
       "726         726              X-Man    Male      blue                  -   \n",
       "727         727        Yellow Claw    Male      blue                  -   \n",
       "728         728       Yellowjacket    Male      blue              Human   \n",
       "729         729    Yellowjacket II  Female      blue              Human   \n",
       "730         730               Ymir    Male     white        Frost Giant   \n",
       "731         731               Yoda    Male     brown     Yoda's species   \n",
       "732         732            Zatanna  Female      blue              Human   \n",
       "733         733               Zoom    Male       red                  -   \n",
       "\n",
       "           Hair color  Height          Publisher Skin color Alignment  Weight  \n",
       "0             No Hair   203.0      Marvel Comics          -      good   441.0  \n",
       "1             No Hair   191.0  Dark Horse Comics       blue      good    65.0  \n",
       "2             No Hair   185.0          DC Comics        red      good    90.0  \n",
       "3             No Hair   203.0      Marvel Comics          -       bad   441.0  \n",
       "4               Black   -99.0      Marvel Comics          -       bad   -99.0  \n",
       "5             No Hair   193.0      Marvel Comics          -       bad   122.0  \n",
       "6               Blond   -99.0       NBC - Heroes          -      good   -99.0  \n",
       "7               Blond   185.0          DC Comics          -      good    88.0  \n",
       "8               Blond   173.0      Marvel Comics          -      good    61.0  \n",
       "9               Brown   178.0      Marvel Comics          -      good    81.0  \n",
       "10                  -   191.0      Marvel Comics          -      good   104.0  \n",
       "11              White   188.0      Marvel Comics          -       bad   108.0  \n",
       "12              Black   193.0      Marvel Comics          -       bad    90.0  \n",
       "13              Blond   180.0          DC Comics          -      good    90.0  \n",
       "14                  -   -99.0          Wildstorm          -       bad   -99.0  \n",
       "15                  -   -99.0       NBC - Heroes          -      good   -99.0  \n",
       "16              Black   178.0          DC Comics          -      good    72.0  \n",
       "17            No Hair   244.0  Dark Horse Comics      black       bad   169.0  \n",
       "18                  -   -99.0          Wildstorm          -      good   -99.0  \n",
       "19                  -   257.0          DC Comics          -       bad   173.0  \n",
       "20              Black   188.0      Marvel Comics          -       bad   101.0  \n",
       "21                  -   -99.0       NBC - Heroes          -      good   -99.0  \n",
       "22              Blond   183.0      Marvel Comics          -      good    68.0  \n",
       "23                  -   -99.0  Dark Horse Comics          -      good   -99.0  \n",
       "24              Black   165.0      Marvel Comics          -      good    57.0  \n",
       "25              Black   163.0      Marvel Comics          -      good    54.0  \n",
       "26                  -   -99.0       Image Comics          -       bad   -99.0  \n",
       "27              Blond   183.0          DC Comics          -      good    83.0  \n",
       "28            No Hair   180.0      Marvel Comics          -       bad    90.0  \n",
       "29              Blond   211.0      Marvel Comics          -      good   122.0  \n",
       "..                ...     ...                ...        ...       ...     ...  \n",
       "704             Black   183.0      Marvel Comics          -       bad   162.0  \n",
       "705             Brown   185.0      Marvel Comics          -      good    95.0  \n",
       "706             Blond   180.0      Marvel Comics          -      good    54.0  \n",
       "707             Blond   188.0      Marvel Comics          -      good   108.0  \n",
       "708             Black   173.0          DC Comics          -       bad    67.0  \n",
       "709             Black   218.0      Marvel Comics          -      good   158.0  \n",
       "710            Auburn   163.0      Marvel Comics          -      good    50.0  \n",
       "711                 -   -99.0      Marvel Comics          -      good   -99.0  \n",
       "712                 -   -99.0      Marvel Comics          -       bad   -99.0  \n",
       "713             Black   -99.0          DC Comics          -       bad   -99.0  \n",
       "714             Blond   178.0      Marvel Comics          -      good    65.0  \n",
       "715                 -   -99.0          DC Comics          -      good   -99.0  \n",
       "716             Brown   175.0      Marvel Comics          -      good   117.0  \n",
       "717             Black   140.0      Marvel Comics          -      good    39.0  \n",
       "718            Auburn   366.0      Marvel Comics          -      good   473.0  \n",
       "719             Black   160.0      Marvel Comics          -      good   135.0  \n",
       "720             Blond   165.0          DC Comics          -      good    51.0  \n",
       "721             Black   188.0      Marvel Comics          -      good   171.0  \n",
       "722             Black   183.0          DC Comics          -      good    74.0  \n",
       "723                 -   -99.0      Marvel Comics          -      good   -99.0  \n",
       "724             Black   196.0      Marvel Comics          -      good   117.0  \n",
       "725             Black   155.0      Marvel Comics          -      good    50.0  \n",
       "726             Brown   175.0      Marvel Comics          -      good    61.0  \n",
       "727           No Hair   188.0      Marvel Comics          -       bad    95.0  \n",
       "728             Blond   183.0      Marvel Comics          -      good    83.0  \n",
       "729  Strawberry Blond   165.0      Marvel Comics          -      good    52.0  \n",
       "730           No Hair   304.8      Marvel Comics      white      good   -99.0  \n",
       "731             White    66.0       George Lucas      green      good    17.0  \n",
       "732             Black   170.0          DC Comics          -      good    57.0  \n",
       "733             Brown   185.0          DC Comics          -       bad    81.0  \n",
       "\n",
       "[734 rows x 11 columns]"
      ]
     },
     "execution_count": 4,
     "metadata": {},
     "output_type": "execute_result"
    }
   ],
   "source": [
    "data"
   ]
  },
  {
   "cell_type": "code",
   "execution_count": 5,
   "metadata": {},
   "outputs": [
    {
     "name": "stdout",
     "output_type": "stream",
     "text": [
      "     Unnamed: 0               name  Gender Eye color               Race  \\\n",
      "0             0             A-Bomb    Male    yellow              Human   \n",
      "1             1         Abe Sapien    Male      blue      Icthyo Sapien   \n",
      "2             2           Abin Sur    Male      blue            Ungaran   \n",
      "3             3        Abomination    Male     green  Human / Radiation   \n",
      "4             4            Abraxas    Male      blue      Cosmic Entity   \n",
      "5             5      Absorbing Man    Male      blue              Human   \n",
      "6             6        Adam Monroe    Male      blue                  -   \n",
      "7             7       Adam Strange    Male      blue              Human   \n",
      "8             8           Agent 13  Female      blue                  -   \n",
      "9             9          Agent Bob    Male     brown              Human   \n",
      "10           10         Agent Zero    Male         -                  -   \n",
      "11           11         Air-Walker    Male      blue                  -   \n",
      "12           12               Ajax    Male     brown             Cyborg   \n",
      "13           13         Alan Scott    Male      blue                  -   \n",
      "14           14        Alex Mercer    Male         -              Human   \n",
      "15           15       Alex Woolsly    Male         -                  -   \n",
      "16           16  Alfred Pennyworth    Male      blue              Human   \n",
      "17           17              Alien    Male         -    Xenomorph XX121   \n",
      "18           18   Allan Quatermain    Male         -                  -   \n",
      "19           19              Amazo    Male       red            Android   \n",
      "20           20               Ammo    Male     brown              Human   \n",
      "21           21     Ando Masahashi    Male         -                  -   \n",
      "22           22              Angel    Male      blue                  -   \n",
      "23           23              Angel    Male         -            Vampire   \n",
      "24           24         Angel Dust  Female    yellow             Mutant   \n",
      "25           25    Angel Salvadore  Female     brown                  -   \n",
      "26           26             Angela  Female         -                  -   \n",
      "27           27         Animal Man    Male      blue              Human   \n",
      "28           28          Annihilus    Male     green                  -   \n",
      "29           29            Ant-Man    Male      blue              Human   \n",
      "..          ...                ...     ...       ...                ...   \n",
      "704         704             Walrus    Male      blue              Human   \n",
      "705         705        War Machine    Male     brown              Human   \n",
      "706         706            Warbird  Female      blue                  -   \n",
      "707         707            Warlock    Male       red                  -   \n",
      "708         708               Warp    Male     brown                  -   \n",
      "709         709            Warpath    Male     brown             Mutant   \n",
      "710         710               Wasp  Female      blue              Human   \n",
      "711         711            Watcher    Male         -                  -   \n",
      "712         712          Weapon XI    Male         -                  -   \n",
      "713         713       White Canary  Female     brown              Human   \n",
      "714         714        White Queen  Female      blue                  -   \n",
      "715         715           Wildfire    Male         -                  -   \n",
      "716         716     Winter Soldier    Male     brown              Human   \n",
      "717         717            Wiz Kid  Female     brown                  -   \n",
      "718         718          Wolfsbane  Female     green                  -   \n",
      "719         719          Wolverine    Male      blue             Mutant   \n",
      "720         720        Wonder Girl  Female      blue           Demi-God   \n",
      "721         721         Wonder Man    Male       red                  -   \n",
      "722         722       Wonder Woman  Female      blue             Amazon   \n",
      "723         723             Wondra  Female         -                  -   \n",
      "724         724     Wyatt Wingfoot    Male     brown                  -   \n",
      "725         725               X-23  Female     green     Mutant / Clone   \n",
      "726         726              X-Man    Male      blue                  -   \n",
      "727         727        Yellow Claw    Male      blue                  -   \n",
      "728         728       Yellowjacket    Male      blue              Human   \n",
      "729         729    Yellowjacket II  Female      blue              Human   \n",
      "730         730               Ymir    Male     white        Frost Giant   \n",
      "731         731               Yoda    Male     brown     Yoda's species   \n",
      "732         732            Zatanna  Female      blue              Human   \n",
      "733         733               Zoom    Male       red                  -   \n",
      "\n",
      "           Hair color  Height          Publisher Skin color Alignment  Weight  \n",
      "0             No Hair   203.0      Marvel Comics          -      good   441.0  \n",
      "1             No Hair   191.0  Dark Horse Comics       blue      good    65.0  \n",
      "2             No Hair   185.0          DC Comics        red      good    90.0  \n",
      "3             No Hair   203.0      Marvel Comics          -       bad   441.0  \n",
      "4               Black   -99.0      Marvel Comics          -       bad   -99.0  \n",
      "5             No Hair   193.0      Marvel Comics          -       bad   122.0  \n",
      "6               Blond   -99.0       NBC - Heroes          -      good   -99.0  \n",
      "7               Blond   185.0          DC Comics          -      good    88.0  \n",
      "8               Blond   173.0      Marvel Comics          -      good    61.0  \n",
      "9               Brown   178.0      Marvel Comics          -      good    81.0  \n",
      "10                  -   191.0      Marvel Comics          -      good   104.0  \n",
      "11              White   188.0      Marvel Comics          -       bad   108.0  \n",
      "12              Black   193.0      Marvel Comics          -       bad    90.0  \n",
      "13              Blond   180.0          DC Comics          -      good    90.0  \n",
      "14                  -   -99.0          Wildstorm          -       bad   -99.0  \n",
      "15                  -   -99.0       NBC - Heroes          -      good   -99.0  \n",
      "16              Black   178.0          DC Comics          -      good    72.0  \n",
      "17            No Hair   244.0  Dark Horse Comics      black       bad   169.0  \n",
      "18                  -   -99.0          Wildstorm          -      good   -99.0  \n",
      "19                  -   257.0          DC Comics          -       bad   173.0  \n",
      "20              Black   188.0      Marvel Comics          -       bad   101.0  \n",
      "21                  -   -99.0       NBC - Heroes          -      good   -99.0  \n",
      "22              Blond   183.0      Marvel Comics          -      good    68.0  \n",
      "23                  -   -99.0  Dark Horse Comics          -      good   -99.0  \n",
      "24              Black   165.0      Marvel Comics          -      good    57.0  \n",
      "25              Black   163.0      Marvel Comics          -      good    54.0  \n",
      "26                  -   -99.0       Image Comics          -       bad   -99.0  \n",
      "27              Blond   183.0          DC Comics          -      good    83.0  \n",
      "28            No Hair   180.0      Marvel Comics          -       bad    90.0  \n",
      "29              Blond   211.0      Marvel Comics          -      good   122.0  \n",
      "..                ...     ...                ...        ...       ...     ...  \n",
      "704             Black   183.0      Marvel Comics          -       bad   162.0  \n",
      "705             Brown   185.0      Marvel Comics          -      good    95.0  \n",
      "706             Blond   180.0      Marvel Comics          -      good    54.0  \n",
      "707             Blond   188.0      Marvel Comics          -      good   108.0  \n",
      "708             Black   173.0          DC Comics          -       bad    67.0  \n",
      "709             Black   218.0      Marvel Comics          -      good   158.0  \n",
      "710            Auburn   163.0      Marvel Comics          -      good    50.0  \n",
      "711                 -   -99.0      Marvel Comics          -      good   -99.0  \n",
      "712                 -   -99.0      Marvel Comics          -       bad   -99.0  \n",
      "713             Black   -99.0          DC Comics          -       bad   -99.0  \n",
      "714             Blond   178.0      Marvel Comics          -      good    65.0  \n",
      "715                 -   -99.0          DC Comics          -      good   -99.0  \n",
      "716             Brown   175.0      Marvel Comics          -      good   117.0  \n",
      "717             Black   140.0      Marvel Comics          -      good    39.0  \n",
      "718            Auburn   366.0      Marvel Comics          -      good   473.0  \n",
      "719             Black   160.0      Marvel Comics          -      good   135.0  \n",
      "720             Blond   165.0          DC Comics          -      good    51.0  \n",
      "721             Black   188.0      Marvel Comics          -      good   171.0  \n",
      "722             Black   183.0          DC Comics          -      good    74.0  \n",
      "723                 -   -99.0      Marvel Comics          -      good   -99.0  \n",
      "724             Black   196.0      Marvel Comics          -      good   117.0  \n",
      "725             Black   155.0      Marvel Comics          -      good    50.0  \n",
      "726             Brown   175.0      Marvel Comics          -      good    61.0  \n",
      "727           No Hair   188.0      Marvel Comics          -       bad    95.0  \n",
      "728             Blond   183.0      Marvel Comics          -      good    83.0  \n",
      "729  Strawberry Blond   165.0      Marvel Comics          -      good    52.0  \n",
      "730           No Hair   304.8      Marvel Comics      white      good   -99.0  \n",
      "731             White    66.0       George Lucas      green      good    17.0  \n",
      "732             Black   170.0          DC Comics          -      good    57.0  \n",
      "733             Brown   185.0          DC Comics          -       bad    81.0  \n",
      "\n",
      "[734 rows x 11 columns]\n"
     ]
    }
   ],
   "source": [
    "print (data)"
   ]
  },
  {
   "cell_type": "markdown",
   "metadata": {},
   "source": [
    "Вывод первых пяти строк:"
   ]
  },
  {
   "cell_type": "code",
   "execution_count": 6,
   "metadata": {},
   "outputs": [
    {
     "data": {
      "text/html": [
       "<div>\n",
       "<style scoped>\n",
       "    .dataframe tbody tr th:only-of-type {\n",
       "        vertical-align: middle;\n",
       "    }\n",
       "\n",
       "    .dataframe tbody tr th {\n",
       "        vertical-align: top;\n",
       "    }\n",
       "\n",
       "    .dataframe thead th {\n",
       "        text-align: right;\n",
       "    }\n",
       "</style>\n",
       "<table border=\"1\" class=\"dataframe\">\n",
       "  <thead>\n",
       "    <tr style=\"text-align: right;\">\n",
       "      <th></th>\n",
       "      <th>Unnamed: 0</th>\n",
       "      <th>name</th>\n",
       "      <th>Gender</th>\n",
       "      <th>Eye color</th>\n",
       "      <th>Race</th>\n",
       "      <th>Hair color</th>\n",
       "      <th>Height</th>\n",
       "      <th>Publisher</th>\n",
       "      <th>Skin color</th>\n",
       "      <th>Alignment</th>\n",
       "      <th>Weight</th>\n",
       "    </tr>\n",
       "  </thead>\n",
       "  <tbody>\n",
       "    <tr>\n",
       "      <th>0</th>\n",
       "      <td>0</td>\n",
       "      <td>A-Bomb</td>\n",
       "      <td>Male</td>\n",
       "      <td>yellow</td>\n",
       "      <td>Human</td>\n",
       "      <td>No Hair</td>\n",
       "      <td>203.0</td>\n",
       "      <td>Marvel Comics</td>\n",
       "      <td>-</td>\n",
       "      <td>good</td>\n",
       "      <td>441.0</td>\n",
       "    </tr>\n",
       "    <tr>\n",
       "      <th>1</th>\n",
       "      <td>1</td>\n",
       "      <td>Abe Sapien</td>\n",
       "      <td>Male</td>\n",
       "      <td>blue</td>\n",
       "      <td>Icthyo Sapien</td>\n",
       "      <td>No Hair</td>\n",
       "      <td>191.0</td>\n",
       "      <td>Dark Horse Comics</td>\n",
       "      <td>blue</td>\n",
       "      <td>good</td>\n",
       "      <td>65.0</td>\n",
       "    </tr>\n",
       "    <tr>\n",
       "      <th>2</th>\n",
       "      <td>2</td>\n",
       "      <td>Abin Sur</td>\n",
       "      <td>Male</td>\n",
       "      <td>blue</td>\n",
       "      <td>Ungaran</td>\n",
       "      <td>No Hair</td>\n",
       "      <td>185.0</td>\n",
       "      <td>DC Comics</td>\n",
       "      <td>red</td>\n",
       "      <td>good</td>\n",
       "      <td>90.0</td>\n",
       "    </tr>\n",
       "    <tr>\n",
       "      <th>3</th>\n",
       "      <td>3</td>\n",
       "      <td>Abomination</td>\n",
       "      <td>Male</td>\n",
       "      <td>green</td>\n",
       "      <td>Human / Radiation</td>\n",
       "      <td>No Hair</td>\n",
       "      <td>203.0</td>\n",
       "      <td>Marvel Comics</td>\n",
       "      <td>-</td>\n",
       "      <td>bad</td>\n",
       "      <td>441.0</td>\n",
       "    </tr>\n",
       "    <tr>\n",
       "      <th>4</th>\n",
       "      <td>4</td>\n",
       "      <td>Abraxas</td>\n",
       "      <td>Male</td>\n",
       "      <td>blue</td>\n",
       "      <td>Cosmic Entity</td>\n",
       "      <td>Black</td>\n",
       "      <td>-99.0</td>\n",
       "      <td>Marvel Comics</td>\n",
       "      <td>-</td>\n",
       "      <td>bad</td>\n",
       "      <td>-99.0</td>\n",
       "    </tr>\n",
       "  </tbody>\n",
       "</table>\n",
       "</div>"
      ],
      "text/plain": [
       "   Unnamed: 0         name Gender Eye color               Race Hair color  \\\n",
       "0           0       A-Bomb   Male    yellow              Human    No Hair   \n",
       "1           1   Abe Sapien   Male      blue      Icthyo Sapien    No Hair   \n",
       "2           2     Abin Sur   Male      blue            Ungaran    No Hair   \n",
       "3           3  Abomination   Male     green  Human / Radiation    No Hair   \n",
       "4           4      Abraxas   Male      blue      Cosmic Entity      Black   \n",
       "\n",
       "   Height          Publisher Skin color Alignment  Weight  \n",
       "0   203.0      Marvel Comics          -      good   441.0  \n",
       "1   191.0  Dark Horse Comics       blue      good    65.0  \n",
       "2   185.0          DC Comics        red      good    90.0  \n",
       "3   203.0      Marvel Comics          -       bad   441.0  \n",
       "4   -99.0      Marvel Comics          -       bad   -99.0  "
      ]
     },
     "execution_count": 6,
     "metadata": {},
     "output_type": "execute_result"
    }
   ],
   "source": [
    "data.head()"
   ]
  },
  {
   "cell_type": "markdown",
   "metadata": {},
   "source": [
    "Вывод последних пяти строк в таблице:"
   ]
  },
  {
   "cell_type": "code",
   "execution_count": 7,
   "metadata": {},
   "outputs": [
    {
     "data": {
      "text/html": [
       "<div>\n",
       "<style scoped>\n",
       "    .dataframe tbody tr th:only-of-type {\n",
       "        vertical-align: middle;\n",
       "    }\n",
       "\n",
       "    .dataframe tbody tr th {\n",
       "        vertical-align: top;\n",
       "    }\n",
       "\n",
       "    .dataframe thead th {\n",
       "        text-align: right;\n",
       "    }\n",
       "</style>\n",
       "<table border=\"1\" class=\"dataframe\">\n",
       "  <thead>\n",
       "    <tr style=\"text-align: right;\">\n",
       "      <th></th>\n",
       "      <th>Unnamed: 0</th>\n",
       "      <th>name</th>\n",
       "      <th>Gender</th>\n",
       "      <th>Eye color</th>\n",
       "      <th>Race</th>\n",
       "      <th>Hair color</th>\n",
       "      <th>Height</th>\n",
       "      <th>Publisher</th>\n",
       "      <th>Skin color</th>\n",
       "      <th>Alignment</th>\n",
       "      <th>Weight</th>\n",
       "    </tr>\n",
       "  </thead>\n",
       "  <tbody>\n",
       "    <tr>\n",
       "      <th>729</th>\n",
       "      <td>729</td>\n",
       "      <td>Yellowjacket II</td>\n",
       "      <td>Female</td>\n",
       "      <td>blue</td>\n",
       "      <td>Human</td>\n",
       "      <td>Strawberry Blond</td>\n",
       "      <td>165.0</td>\n",
       "      <td>Marvel Comics</td>\n",
       "      <td>-</td>\n",
       "      <td>good</td>\n",
       "      <td>52.0</td>\n",
       "    </tr>\n",
       "    <tr>\n",
       "      <th>730</th>\n",
       "      <td>730</td>\n",
       "      <td>Ymir</td>\n",
       "      <td>Male</td>\n",
       "      <td>white</td>\n",
       "      <td>Frost Giant</td>\n",
       "      <td>No Hair</td>\n",
       "      <td>304.8</td>\n",
       "      <td>Marvel Comics</td>\n",
       "      <td>white</td>\n",
       "      <td>good</td>\n",
       "      <td>-99.0</td>\n",
       "    </tr>\n",
       "    <tr>\n",
       "      <th>731</th>\n",
       "      <td>731</td>\n",
       "      <td>Yoda</td>\n",
       "      <td>Male</td>\n",
       "      <td>brown</td>\n",
       "      <td>Yoda's species</td>\n",
       "      <td>White</td>\n",
       "      <td>66.0</td>\n",
       "      <td>George Lucas</td>\n",
       "      <td>green</td>\n",
       "      <td>good</td>\n",
       "      <td>17.0</td>\n",
       "    </tr>\n",
       "    <tr>\n",
       "      <th>732</th>\n",
       "      <td>732</td>\n",
       "      <td>Zatanna</td>\n",
       "      <td>Female</td>\n",
       "      <td>blue</td>\n",
       "      <td>Human</td>\n",
       "      <td>Black</td>\n",
       "      <td>170.0</td>\n",
       "      <td>DC Comics</td>\n",
       "      <td>-</td>\n",
       "      <td>good</td>\n",
       "      <td>57.0</td>\n",
       "    </tr>\n",
       "    <tr>\n",
       "      <th>733</th>\n",
       "      <td>733</td>\n",
       "      <td>Zoom</td>\n",
       "      <td>Male</td>\n",
       "      <td>red</td>\n",
       "      <td>-</td>\n",
       "      <td>Brown</td>\n",
       "      <td>185.0</td>\n",
       "      <td>DC Comics</td>\n",
       "      <td>-</td>\n",
       "      <td>bad</td>\n",
       "      <td>81.0</td>\n",
       "    </tr>\n",
       "  </tbody>\n",
       "</table>\n",
       "</div>"
      ],
      "text/plain": [
       "     Unnamed: 0             name  Gender Eye color            Race  \\\n",
       "729         729  Yellowjacket II  Female      blue           Human   \n",
       "730         730             Ymir    Male     white     Frost Giant   \n",
       "731         731             Yoda    Male     brown  Yoda's species   \n",
       "732         732          Zatanna  Female      blue           Human   \n",
       "733         733             Zoom    Male       red               -   \n",
       "\n",
       "           Hair color  Height      Publisher Skin color Alignment  Weight  \n",
       "729  Strawberry Blond   165.0  Marvel Comics          -      good    52.0  \n",
       "730           No Hair   304.8  Marvel Comics      white      good   -99.0  \n",
       "731             White    66.0   George Lucas      green      good    17.0  \n",
       "732             Black   170.0      DC Comics          -      good    57.0  \n",
       "733             Brown   185.0      DC Comics          -       bad    81.0  "
      ]
     },
     "execution_count": 7,
     "metadata": {},
     "output_type": "execute_result"
    }
   ],
   "source": [
    "data.tail()"
   ]
  },
  {
   "cell_type": "markdown",
   "metadata": {},
   "source": [
    "### Анализ данных"
   ]
  },
  {
   "cell_type": "code",
   "execution_count": 8,
   "metadata": {},
   "outputs": [
    {
     "name": "stdout",
     "output_type": "stream",
     "text": [
      "(734, 11)\n",
      "Index([u'Unnamed: 0', u'name', u'Gender', u'Eye color', u'Race', u'Hair color',\n",
      "       u'Height', u'Publisher', u'Skin color', u'Alignment', u'Weight'],\n",
      "      dtype='object')\n"
     ]
    }
   ],
   "source": [
    "print(data.shape)\n",
    "print(data.columns)"
   ]
  },
  {
   "cell_type": "markdown",
   "metadata": {},
   "source": [
    "Таблица содержит 734 строки и 11 столбцов."
   ]
  },
  {
   "cell_type": "code",
   "execution_count": 9,
   "metadata": {},
   "outputs": [
    {
     "data": {
      "text/plain": [
       "RangeIndex(start=0, stop=734, step=1)"
      ]
     },
     "execution_count": 9,
     "metadata": {},
     "output_type": "execute_result"
    }
   ],
   "source": [
    "data.index"
   ]
  },
  {
   "cell_type": "code",
   "execution_count": 10,
   "metadata": {},
   "outputs": [
    {
     "data": {
      "text/plain": [
       "'Abraxas'"
      ]
     },
     "execution_count": 10,
     "metadata": {},
     "output_type": "execute_result"
    }
   ],
   "source": [
    "data.at[4,'name']"
   ]
  },
  {
   "cell_type": "code",
   "execution_count": 11,
   "metadata": {},
   "outputs": [
    {
     "data": {
      "text/plain": [
       "0                 A-Bomb\n",
       "1             Abe Sapien\n",
       "2               Abin Sur\n",
       "3            Abomination\n",
       "4                Abraxas\n",
       "5          Absorbing Man\n",
       "6            Adam Monroe\n",
       "7           Adam Strange\n",
       "8               Agent 13\n",
       "9              Agent Bob\n",
       "10            Agent Zero\n",
       "11            Air-Walker\n",
       "12                  Ajax\n",
       "13            Alan Scott\n",
       "14           Alex Mercer\n",
       "15          Alex Woolsly\n",
       "16     Alfred Pennyworth\n",
       "17                 Alien\n",
       "18      Allan Quatermain\n",
       "19                 Amazo\n",
       "20                  Ammo\n",
       "21        Ando Masahashi\n",
       "22                 Angel\n",
       "23                 Angel\n",
       "24            Angel Dust\n",
       "25       Angel Salvadore\n",
       "26                Angela\n",
       "27            Animal Man\n",
       "28             Annihilus\n",
       "29               Ant-Man\n",
       "             ...        \n",
       "704               Walrus\n",
       "705          War Machine\n",
       "706              Warbird\n",
       "707              Warlock\n",
       "708                 Warp\n",
       "709              Warpath\n",
       "710                 Wasp\n",
       "711              Watcher\n",
       "712            Weapon XI\n",
       "713         White Canary\n",
       "714          White Queen\n",
       "715             Wildfire\n",
       "716       Winter Soldier\n",
       "717              Wiz Kid\n",
       "718            Wolfsbane\n",
       "719            Wolverine\n",
       "720          Wonder Girl\n",
       "721           Wonder Man\n",
       "722         Wonder Woman\n",
       "723               Wondra\n",
       "724       Wyatt Wingfoot\n",
       "725                 X-23\n",
       "726                X-Man\n",
       "727          Yellow Claw\n",
       "728         Yellowjacket\n",
       "729      Yellowjacket II\n",
       "730                 Ymir\n",
       "731                 Yoda\n",
       "732              Zatanna\n",
       "733                 Zoom\n",
       "Name: name, Length: 734, dtype: object"
      ]
     },
     "execution_count": 11,
     "metadata": {},
     "output_type": "execute_result"
    }
   ],
   "source": [
    "data ['name']"
   ]
  },
  {
   "cell_type": "code",
   "execution_count": 12,
   "metadata": {},
   "outputs": [
    {
     "data": {
      "text/plain": [
       "'Abraxas'"
      ]
     },
     "execution_count": 12,
     "metadata": {},
     "output_type": "execute_result"
    }
   ],
   "source": [
    "data['name'][4]\n"
   ]
  },
  {
   "cell_type": "code",
   "execution_count": 13,
   "metadata": {},
   "outputs": [
    {
     "data": {
      "text/plain": [
       "'float64'"
      ]
     },
     "execution_count": 13,
     "metadata": {},
     "output_type": "execute_result"
    }
   ],
   "source": [
    "data['Weight'].dtype.name"
   ]
  },
  {
   "cell_type": "code",
   "execution_count": 14,
   "metadata": {},
   "outputs": [
    {
     "data": {
      "text/plain": [
       "numpy.float64"
      ]
     },
     "execution_count": 14,
     "metadata": {},
     "output_type": "execute_result"
    }
   ],
   "source": [
    "type(data['Height'][0])"
   ]
  },
  {
   "cell_type": "code",
   "execution_count": 15,
   "metadata": {},
   "outputs": [
    {
     "data": {
      "text/plain": [
       "str"
      ]
     },
     "execution_count": 15,
     "metadata": {},
     "output_type": "execute_result"
    }
   ],
   "source": [
    "type(data['Publisher'][0])"
   ]
  },
  {
   "cell_type": "code",
   "execution_count": 16,
   "metadata": {},
   "outputs": [
    {
     "data": {
      "text/plain": [
       "pandas.core.series.Series"
      ]
     },
     "execution_count": 16,
     "metadata": {},
     "output_type": "execute_result"
    }
   ],
   "source": [
    "type(data['Gender'])"
   ]
  },
  {
   "cell_type": "code",
   "execution_count": 17,
   "metadata": {},
   "outputs": [
    {
     "data": {
      "text/html": [
       "<div>\n",
       "<style scoped>\n",
       "    .dataframe tbody tr th:only-of-type {\n",
       "        vertical-align: middle;\n",
       "    }\n",
       "\n",
       "    .dataframe tbody tr th {\n",
       "        vertical-align: top;\n",
       "    }\n",
       "\n",
       "    .dataframe thead th {\n",
       "        text-align: right;\n",
       "    }\n",
       "</style>\n",
       "<table border=\"1\" class=\"dataframe\">\n",
       "  <thead>\n",
       "    <tr style=\"text-align: right;\">\n",
       "      <th></th>\n",
       "      <th>name</th>\n",
       "      <th>Gender</th>\n",
       "    </tr>\n",
       "  </thead>\n",
       "  <tbody>\n",
       "    <tr>\n",
       "      <th>0</th>\n",
       "      <td>A-Bomb</td>\n",
       "      <td>Male</td>\n",
       "    </tr>\n",
       "    <tr>\n",
       "      <th>1</th>\n",
       "      <td>Abe Sapien</td>\n",
       "      <td>Male</td>\n",
       "    </tr>\n",
       "    <tr>\n",
       "      <th>2</th>\n",
       "      <td>Abin Sur</td>\n",
       "      <td>Male</td>\n",
       "    </tr>\n",
       "    <tr>\n",
       "      <th>3</th>\n",
       "      <td>Abomination</td>\n",
       "      <td>Male</td>\n",
       "    </tr>\n",
       "    <tr>\n",
       "      <th>4</th>\n",
       "      <td>Abraxas</td>\n",
       "      <td>Male</td>\n",
       "    </tr>\n",
       "  </tbody>\n",
       "</table>\n",
       "</div>"
      ],
      "text/plain": [
       "          name Gender\n",
       "0       A-Bomb   Male\n",
       "1   Abe Sapien   Male\n",
       "2     Abin Sur   Male\n",
       "3  Abomination   Male\n",
       "4      Abraxas   Male"
      ]
     },
     "execution_count": 17,
     "metadata": {},
     "output_type": "execute_result"
    }
   ],
   "source": [
    "data[['name', 'Gender']].head()"
   ]
  },
  {
   "cell_type": "code",
   "execution_count": 18,
   "metadata": {},
   "outputs": [
    {
     "data": {
      "text/html": [
       "<div>\n",
       "<style scoped>\n",
       "    .dataframe tbody tr th:only-of-type {\n",
       "        vertical-align: middle;\n",
       "    }\n",
       "\n",
       "    .dataframe tbody tr th {\n",
       "        vertical-align: top;\n",
       "    }\n",
       "\n",
       "    .dataframe thead th {\n",
       "        text-align: right;\n",
       "    }\n",
       "</style>\n",
       "<table border=\"1\" class=\"dataframe\">\n",
       "  <thead>\n",
       "    <tr style=\"text-align: right;\">\n",
       "      <th></th>\n",
       "      <th>Unnamed: 0</th>\n",
       "      <th>Height</th>\n",
       "      <th>Weight</th>\n",
       "    </tr>\n",
       "  </thead>\n",
       "  <tbody>\n",
       "    <tr>\n",
       "      <th>count</th>\n",
       "      <td>734.000000</td>\n",
       "      <td>734.000000</td>\n",
       "      <td>732.000000</td>\n",
       "    </tr>\n",
       "    <tr>\n",
       "      <th>mean</th>\n",
       "      <td>366.500000</td>\n",
       "      <td>102.254087</td>\n",
       "      <td>43.855191</td>\n",
       "    </tr>\n",
       "    <tr>\n",
       "      <th>std</th>\n",
       "      <td>212.031837</td>\n",
       "      <td>139.624543</td>\n",
       "      <td>130.823733</td>\n",
       "    </tr>\n",
       "    <tr>\n",
       "      <th>min</th>\n",
       "      <td>0.000000</td>\n",
       "      <td>-99.000000</td>\n",
       "      <td>-99.000000</td>\n",
       "    </tr>\n",
       "    <tr>\n",
       "      <th>25%</th>\n",
       "      <td>183.250000</td>\n",
       "      <td>-99.000000</td>\n",
       "      <td>-99.000000</td>\n",
       "    </tr>\n",
       "    <tr>\n",
       "      <th>50%</th>\n",
       "      <td>366.500000</td>\n",
       "      <td>175.000000</td>\n",
       "      <td>62.000000</td>\n",
       "    </tr>\n",
       "    <tr>\n",
       "      <th>75%</th>\n",
       "      <td>549.750000</td>\n",
       "      <td>185.000000</td>\n",
       "      <td>90.000000</td>\n",
       "    </tr>\n",
       "    <tr>\n",
       "      <th>max</th>\n",
       "      <td>733.000000</td>\n",
       "      <td>975.000000</td>\n",
       "      <td>900.000000</td>\n",
       "    </tr>\n",
       "  </tbody>\n",
       "</table>\n",
       "</div>"
      ],
      "text/plain": [
       "       Unnamed: 0      Height      Weight\n",
       "count  734.000000  734.000000  732.000000\n",
       "mean   366.500000  102.254087   43.855191\n",
       "std    212.031837  139.624543  130.823733\n",
       "min      0.000000  -99.000000  -99.000000\n",
       "25%    183.250000  -99.000000  -99.000000\n",
       "50%    366.500000  175.000000   62.000000\n",
       "75%    549.750000  185.000000   90.000000\n",
       "max    733.000000  975.000000  900.000000"
      ]
     },
     "execution_count": 18,
     "metadata": {},
     "output_type": "execute_result"
    }
   ],
   "source": [
    "data.describe()"
   ]
  },
  {
   "cell_type": "markdown",
   "metadata": {},
   "source": [
    "Построим диаграмму матрицы рассеивания."
   ]
  },
  {
   "cell_type": "code",
   "execution_count": 19,
   "metadata": {},
   "outputs": [
    {
     "name": "stderr",
     "output_type": "stream",
     "text": [
      "D:\\Programmes\\Anaconda\\lib\\site-packages\\ipykernel_launcher.py:2: FutureWarning: 'pandas.tools.plotting.scatter_matrix' is deprecated, import 'pandas.plotting.scatter_matrix' instead.\n",
      "  \n"
     ]
    },
    {
     "data": {
      "image/png": "[encoded data removed]",
      "text/plain": [
       "<Figure size 720x720 with 9 Axes>"
      ]
     },
     "metadata": {},
     "output_type": "display_data"
    }
   ],
   "source": [
    "from pandas.tools.plotting import scatter_matrix\n",
    "scatter_matrix(data, alpha = .01, figsize = (10, 10))\n",
    "pass"
   ]
  },
  {
   "cell_type": "markdown",
   "metadata": {},
   "source": [
    "Построим таблицу, описывающую корреляцию между признаками."
   ]
  },
  {
   "cell_type": "code",
   "execution_count": 20,
   "metadata": {},
   "outputs": [
    {
     "data": {
      "text/html": [
       "<div>\n",
       "<style scoped>\n",
       "    .dataframe tbody tr th:only-of-type {\n",
       "        vertical-align: middle;\n",
       "    }\n",
       "\n",
       "    .dataframe tbody tr th {\n",
       "        vertical-align: top;\n",
       "    }\n",
       "\n",
       "    .dataframe thead th {\n",
       "        text-align: right;\n",
       "    }\n",
       "</style>\n",
       "<table border=\"1\" class=\"dataframe\">\n",
       "  <thead>\n",
       "    <tr style=\"text-align: right;\">\n",
       "      <th></th>\n",
       "      <th>Unnamed: 0</th>\n",
       "      <th>Height</th>\n",
       "      <th>Weight</th>\n",
       "    </tr>\n",
       "  </thead>\n",
       "  <tbody>\n",
       "    <tr>\n",
       "      <th>Unnamed: 0</th>\n",
       "      <td>1.000000</td>\n",
       "      <td>0.042915</td>\n",
       "      <td>0.065094</td>\n",
       "    </tr>\n",
       "    <tr>\n",
       "      <th>Height</th>\n",
       "      <td>0.042915</td>\n",
       "      <td>1.000000</td>\n",
       "      <td>0.683375</td>\n",
       "    </tr>\n",
       "    <tr>\n",
       "      <th>Weight</th>\n",
       "      <td>0.065094</td>\n",
       "      <td>0.683375</td>\n",
       "      <td>1.000000</td>\n",
       "    </tr>\n",
       "  </tbody>\n",
       "</table>\n",
       "</div>"
      ],
      "text/plain": [
       "            Unnamed: 0    Height    Weight\n",
       "Unnamed: 0    1.000000  0.042915  0.065094\n",
       "Height        0.042915  1.000000  0.683375\n",
       "Weight        0.065094  0.683375  1.000000"
      ]
     },
     "execution_count": 20,
     "metadata": {},
     "output_type": "execute_result"
    }
   ],
   "source": [
    "data.corr()"
   ]
  },
  {
   "cell_type": "markdown",
   "metadata": {},
   "source": [
    "Из таблицы видно, что параметры Рост и Вес взаимозависимы."
   ]
  },
  {
   "cell_type": "code",
   "execution_count": 21,
   "metadata": {},
   "outputs": [
    {
     "data": {
      "image/png": "[encoded data removed]",
      "text/plain": [
       "<Figure size 432x288 with 1 Axes>"
      ]
     },
     "metadata": {},
     "output_type": "display_data"
    }
   ],
   "source": [
    "plt.plot(data['Weight'], data['Height'], 'o', alpha = 0.05)\n",
    "plt.xlabel('Weight')\n",
    "plt.ylabel('Height')\n",
    "plt.title('Weight vs Height')\n",
    "pass"
   ]
  },
  {
   "cell_type": "markdown",
   "metadata": {},
   "source": [
    "На графике подтверждается положительная корреляция между параметрами роста и веса."
   ]
  },
  {
   "cell_type": "code",
   "execution_count": 22,
   "metadata": {},
   "outputs": [
    {
     "data": {
      "text/plain": [
       "0       True\n",
       "1      False\n",
       "2      False\n",
       "3      False\n",
       "4      False\n",
       "5      False\n",
       "6      False\n",
       "7      False\n",
       "8      False\n",
       "9      False\n",
       "10     False\n",
       "11     False\n",
       "12     False\n",
       "13     False\n",
       "14     False\n",
       "15     False\n",
       "16     False\n",
       "17     False\n",
       "18     False\n",
       "19     False\n",
       "20     False\n",
       "21     False\n",
       "22     False\n",
       "23     False\n",
       "24      True\n",
       "25     False\n",
       "26     False\n",
       "27     False\n",
       "28     False\n",
       "29     False\n",
       "       ...  \n",
       "704    False\n",
       "705    False\n",
       "706    False\n",
       "707    False\n",
       "708    False\n",
       "709    False\n",
       "710    False\n",
       "711    False\n",
       "712    False\n",
       "713    False\n",
       "714    False\n",
       "715    False\n",
       "716    False\n",
       "717    False\n",
       "718    False\n",
       "719    False\n",
       "720    False\n",
       "721    False\n",
       "722    False\n",
       "723    False\n",
       "724    False\n",
       "725    False\n",
       "726    False\n",
       "727    False\n",
       "728    False\n",
       "729    False\n",
       "730    False\n",
       "731    False\n",
       "732    False\n",
       "733    False\n",
       "Name: Eye color, Length: 734, dtype: bool"
      ]
     },
     "execution_count": 22,
     "metadata": {},
     "output_type": "execute_result"
    }
   ],
   "source": [
    "data['Eye color'] == 'yellow'"
   ]
  },
  {
   "cell_type": "code",
   "execution_count": 23,
   "metadata": {},
   "outputs": [
    {
     "data": {
      "image/png": "[encoded data removed]",
      "text/plain": [
       "<Figure size 720x432 with 1 Axes>"
      ]
     },
     "metadata": {},
     "output_type": "display_data"
    }
   ],
   "source": [
    "plt.figure(figsize = (10, 6))\n",
    "\n",
    "plt.scatter(data[data['Gender'] == 'Male']['Weight'],\n",
    "            data[data['Gender'] == 'Male']['Height'],\n",
    "            alpha = 0.15,\n",
    "            label = 'Male',\n",
    "            color = 'b')\n",
    "\n",
    "plt.scatter(data[data['Gender'] == 'Female']['Weight'],\n",
    "            data[data['Gender'] == 'Female']['Height'],\n",
    "            alpha = 0.05,\n",
    "            label = 'Female',\n",
    "            color = 'r')\n",
    "\n",
    "plt.xlabel('Weight')\n",
    "plt.xticks(range(0,200,10))\n",
    "plt.xlim(0, 199)\n",
    "plt.ylabel('Height')\n",
    "plt.legend()\n",
    "plt.grid()"
   ]
  },
  {
   "cell_type": "markdown",
   "metadata": {},
   "source": [
    "Из графика видно, что основная часть персонажей женского пола весит 50-60 кг."
   ]
  },
  {
   "cell_type": "code",
   "execution_count": 24,
   "metadata": {},
   "outputs": [
    {
     "data": {
      "text/html": [
       "<div>\n",
       "<style scoped>\n",
       "    .dataframe tbody tr th:only-of-type {\n",
       "        vertical-align: middle;\n",
       "    }\n",
       "\n",
       "    .dataframe tbody tr th {\n",
       "        vertical-align: top;\n",
       "    }\n",
       "\n",
       "    .dataframe thead th {\n",
       "        text-align: right;\n",
       "    }\n",
       "</style>\n",
       "<table border=\"1\" class=\"dataframe\">\n",
       "  <thead>\n",
       "    <tr style=\"text-align: right;\">\n",
       "      <th></th>\n",
       "      <th>name</th>\n",
       "      <th>Gender</th>\n",
       "      <th>Eye color</th>\n",
       "      <th>Race</th>\n",
       "      <th>Hair color</th>\n",
       "      <th>Publisher</th>\n",
       "      <th>Skin color</th>\n",
       "      <th>Alignment</th>\n",
       "    </tr>\n",
       "  </thead>\n",
       "  <tbody>\n",
       "    <tr>\n",
       "      <th>count</th>\n",
       "      <td>734</td>\n",
       "      <td>734</td>\n",
       "      <td>734</td>\n",
       "      <td>734</td>\n",
       "      <td>734</td>\n",
       "      <td>719</td>\n",
       "      <td>734</td>\n",
       "      <td>734</td>\n",
       "    </tr>\n",
       "    <tr>\n",
       "      <th>unique</th>\n",
       "      <td>715</td>\n",
       "      <td>2</td>\n",
       "      <td>23</td>\n",
       "      <td>62</td>\n",
       "      <td>30</td>\n",
       "      <td>24</td>\n",
       "      <td>17</td>\n",
       "      <td>4</td>\n",
       "    </tr>\n",
       "    <tr>\n",
       "      <th>top</th>\n",
       "      <td>Spider-Man</td>\n",
       "      <td>Male</td>\n",
       "      <td>blue</td>\n",
       "      <td>-</td>\n",
       "      <td>-</td>\n",
       "      <td>Marvel Comics</td>\n",
       "      <td>-</td>\n",
       "      <td>good</td>\n",
       "    </tr>\n",
       "    <tr>\n",
       "      <th>freq</th>\n",
       "      <td>3</td>\n",
       "      <td>528</td>\n",
       "      <td>225</td>\n",
       "      <td>304</td>\n",
       "      <td>172</td>\n",
       "      <td>388</td>\n",
       "      <td>662</td>\n",
       "      <td>496</td>\n",
       "    </tr>\n",
       "  </tbody>\n",
       "</table>\n",
       "</div>"
      ],
      "text/plain": [
       "              name Gender Eye color Race Hair color      Publisher Skin color  \\\n",
       "count          734    734       734  734        734            719        734   \n",
       "unique         715      2        23   62         30             24         17   \n",
       "top     Spider-Man   Male      blue    -          -  Marvel Comics          -   \n",
       "freq             3    528       225  304        172            388        662   \n",
       "\n",
       "       Alignment  \n",
       "count        734  \n",
       "unique         4  \n",
       "top         good  \n",
       "freq         496  "
      ]
     },
     "execution_count": 24,
     "metadata": {},
     "output_type": "execute_result"
    }
   ],
   "source": [
    "data.describe(include = ['object'])"
   ]
  },
  {
   "cell_type": "code",
   "execution_count": 25,
   "metadata": {},
   "outputs": [
    {
     "data": {
      "text/html": [
       "<div>\n",
       "<style scoped>\n",
       "    .dataframe tbody tr th:only-of-type {\n",
       "        vertical-align: middle;\n",
       "    }\n",
       "\n",
       "    .dataframe tbody tr th {\n",
       "        vertical-align: top;\n",
       "    }\n",
       "\n",
       "    .dataframe thead th {\n",
       "        text-align: right;\n",
       "    }\n",
       "</style>\n",
       "<table border=\"1\" class=\"dataframe\">\n",
       "  <thead>\n",
       "    <tr style=\"text-align: right;\">\n",
       "      <th></th>\n",
       "      <th>Unnamed: 0</th>\n",
       "      <th>name</th>\n",
       "      <th>Gender</th>\n",
       "      <th>Eye color</th>\n",
       "      <th>Race</th>\n",
       "      <th>Hair color</th>\n",
       "      <th>Height</th>\n",
       "      <th>Publisher</th>\n",
       "      <th>Skin color</th>\n",
       "      <th>Alignment</th>\n",
       "      <th>Weight</th>\n",
       "    </tr>\n",
       "  </thead>\n",
       "  <tbody>\n",
       "    <tr>\n",
       "      <th>count</th>\n",
       "      <td>734.000000</td>\n",
       "      <td>734</td>\n",
       "      <td>734</td>\n",
       "      <td>734</td>\n",
       "      <td>734</td>\n",
       "      <td>734</td>\n",
       "      <td>734.000000</td>\n",
       "      <td>719</td>\n",
       "      <td>734</td>\n",
       "      <td>734</td>\n",
       "      <td>732.000000</td>\n",
       "    </tr>\n",
       "    <tr>\n",
       "      <th>unique</th>\n",
       "      <td>NaN</td>\n",
       "      <td>715</td>\n",
       "      <td>2</td>\n",
       "      <td>23</td>\n",
       "      <td>62</td>\n",
       "      <td>30</td>\n",
       "      <td>NaN</td>\n",
       "      <td>24</td>\n",
       "      <td>17</td>\n",
       "      <td>4</td>\n",
       "      <td>NaN</td>\n",
       "    </tr>\n",
       "    <tr>\n",
       "      <th>top</th>\n",
       "      <td>NaN</td>\n",
       "      <td>Spider-Man</td>\n",
       "      <td>Male</td>\n",
       "      <td>blue</td>\n",
       "      <td>-</td>\n",
       "      <td>-</td>\n",
       "      <td>NaN</td>\n",
       "      <td>Marvel Comics</td>\n",
       "      <td>-</td>\n",
       "      <td>good</td>\n",
       "      <td>NaN</td>\n",
       "    </tr>\n",
       "    <tr>\n",
       "      <th>freq</th>\n",
       "      <td>NaN</td>\n",
       "      <td>3</td>\n",
       "      <td>528</td>\n",
       "      <td>225</td>\n",
       "      <td>304</td>\n",
       "      <td>172</td>\n",
       "      <td>NaN</td>\n",
       "      <td>388</td>\n",
       "      <td>662</td>\n",
       "      <td>496</td>\n",
       "      <td>NaN</td>\n",
       "    </tr>\n",
       "    <tr>\n",
       "      <th>mean</th>\n",
       "      <td>366.500000</td>\n",
       "      <td>NaN</td>\n",
       "      <td>NaN</td>\n",
       "      <td>NaN</td>\n",
       "      <td>NaN</td>\n",
       "      <td>NaN</td>\n",
       "      <td>102.254087</td>\n",
       "      <td>NaN</td>\n",
       "      <td>NaN</td>\n",
       "      <td>NaN</td>\n",
       "      <td>43.855191</td>\n",
       "    </tr>\n",
       "    <tr>\n",
       "      <th>std</th>\n",
       "      <td>212.031837</td>\n",
       "      <td>NaN</td>\n",
       "      <td>NaN</td>\n",
       "      <td>NaN</td>\n",
       "      <td>NaN</td>\n",
       "      <td>NaN</td>\n",
       "      <td>139.624543</td>\n",
       "      <td>NaN</td>\n",
       "      <td>NaN</td>\n",
       "      <td>NaN</td>\n",
       "      <td>130.823733</td>\n",
       "    </tr>\n",
       "    <tr>\n",
       "      <th>min</th>\n",
       "      <td>0.000000</td>\n",
       "      <td>NaN</td>\n",
       "      <td>NaN</td>\n",
       "      <td>NaN</td>\n",
       "      <td>NaN</td>\n",
       "      <td>NaN</td>\n",
       "      <td>-99.000000</td>\n",
       "      <td>NaN</td>\n",
       "      <td>NaN</td>\n",
       "      <td>NaN</td>\n",
       "      <td>-99.000000</td>\n",
       "    </tr>\n",
       "    <tr>\n",
       "      <th>25%</th>\n",
       "      <td>183.250000</td>\n",
       "      <td>NaN</td>\n",
       "      <td>NaN</td>\n",
       "      <td>NaN</td>\n",
       "      <td>NaN</td>\n",
       "      <td>NaN</td>\n",
       "      <td>-99.000000</td>\n",
       "      <td>NaN</td>\n",
       "      <td>NaN</td>\n",
       "      <td>NaN</td>\n",
       "      <td>-99.000000</td>\n",
       "    </tr>\n",
       "    <tr>\n",
       "      <th>50%</th>\n",
       "      <td>366.500000</td>\n",
       "      <td>NaN</td>\n",
       "      <td>NaN</td>\n",
       "      <td>NaN</td>\n",
       "      <td>NaN</td>\n",
       "      <td>NaN</td>\n",
       "      <td>175.000000</td>\n",
       "      <td>NaN</td>\n",
       "      <td>NaN</td>\n",
       "      <td>NaN</td>\n",
       "      <td>62.000000</td>\n",
       "    </tr>\n",
       "    <tr>\n",
       "      <th>75%</th>\n",
       "      <td>549.750000</td>\n",
       "      <td>NaN</td>\n",
       "      <td>NaN</td>\n",
       "      <td>NaN</td>\n",
       "      <td>NaN</td>\n",
       "      <td>NaN</td>\n",
       "      <td>185.000000</td>\n",
       "      <td>NaN</td>\n",
       "      <td>NaN</td>\n",
       "      <td>NaN</td>\n",
       "      <td>90.000000</td>\n",
       "    </tr>\n",
       "    <tr>\n",
       "      <th>max</th>\n",
       "      <td>733.000000</td>\n",
       "      <td>NaN</td>\n",
       "      <td>NaN</td>\n",
       "      <td>NaN</td>\n",
       "      <td>NaN</td>\n",
       "      <td>NaN</td>\n",
       "      <td>975.000000</td>\n",
       "      <td>NaN</td>\n",
       "      <td>NaN</td>\n",
       "      <td>NaN</td>\n",
       "      <td>900.000000</td>\n",
       "    </tr>\n",
       "  </tbody>\n",
       "</table>\n",
       "</div>"
      ],
      "text/plain": [
       "        Unnamed: 0        name Gender Eye color Race Hair color      Height  \\\n",
       "count   734.000000         734    734       734  734        734  734.000000   \n",
       "unique         NaN         715      2        23   62         30         NaN   \n",
       "top            NaN  Spider-Man   Male      blue    -          -         NaN   \n",
       "freq           NaN           3    528       225  304        172         NaN   \n",
       "mean    366.500000         NaN    NaN       NaN  NaN        NaN  102.254087   \n",
       "std     212.031837         NaN    NaN       NaN  NaN        NaN  139.624543   \n",
       "min       0.000000         NaN    NaN       NaN  NaN        NaN  -99.000000   \n",
       "25%     183.250000         NaN    NaN       NaN  NaN        NaN  -99.000000   \n",
       "50%     366.500000         NaN    NaN       NaN  NaN        NaN  175.000000   \n",
       "75%     549.750000         NaN    NaN       NaN  NaN        NaN  185.000000   \n",
       "max     733.000000         NaN    NaN       NaN  NaN        NaN  975.000000   \n",
       "\n",
       "            Publisher Skin color Alignment      Weight  \n",
       "count             719        734       734  732.000000  \n",
       "unique             24         17         4         NaN  \n",
       "top     Marvel Comics          -      good         NaN  \n",
       "freq              388        662       496         NaN  \n",
       "mean              NaN        NaN       NaN   43.855191  \n",
       "std               NaN        NaN       NaN  130.823733  \n",
       "min               NaN        NaN       NaN  -99.000000  \n",
       "25%               NaN        NaN       NaN  -99.000000  \n",
       "50%               NaN        NaN       NaN   62.000000  \n",
       "75%               NaN        NaN       NaN   90.000000  \n",
       "max               NaN        NaN       NaN  900.000000  "
      ]
     },
     "execution_count": 25,
     "metadata": {},
     "output_type": "execute_result"
    }
   ],
   "source": [
    "data.describe(include = 'all')"
   ]
  },
  {
   "cell_type": "code",
   "execution_count": 26,
   "metadata": {},
   "outputs": [
    {
     "data": {
      "text/plain": [
       "array(['good', 'bad', '-', 'neutral'], dtype=object)"
      ]
     },
     "execution_count": 26,
     "metadata": {},
     "output_type": "execute_result"
    }
   ],
   "source": [
    "data['Alignment'].unique()"
   ]
  },
  {
   "cell_type": "code",
   "execution_count": 27,
   "metadata": {},
   "outputs": [
    {
     "name": "stdout",
     "output_type": "stream",
     "text": [
      "('good', 'A-Bomb')\n",
      "('bad', 'Abomination')\n",
      "('-', 'Anti-Venom')\n",
      "('neutral', 'Bizarro')\n"
     ]
    }
   ],
   "source": [
    "for x in data['Alignment'].unique():\n",
    "    print(x, data['name'][data['Alignment'] == x].iloc[0])"
   ]
  },
  {
   "cell_type": "markdown",
   "metadata": {},
   "source": [
    "###### Поставим себе задачу определить пол персонажа на основе некоторых признаков (раса, рост, вес)\n",
    "\n",
    "### Подготовка данных\n",
    "\n",
    "Исключим из таблицы лишние столбцы."
   ]
  },
  {
   "cell_type": "code",
   "execution_count": 28,
   "metadata": {},
   "outputs": [],
   "source": [
    "data = data.drop ('Unnamed: 0', axis =1)\\\n",
    "           .drop ('name', axis =1)\\\n",
    "           .drop ('Eye color', axis =1)\\\n",
    "           .drop ('Hair color', axis =1)\\\n",
    "           .drop ('Skin color', axis =1)\\\n",
    "           .drop ('Publisher', axis =1)\\\n",
    "           .drop ('Alignment', axis =1)"
   ]
  },
  {
   "cell_type": "code",
   "execution_count": 29,
   "metadata": {},
   "outputs": [
    {
     "data": {
      "text/html": [
       "<div>\n",
       "<style scoped>\n",
       "    .dataframe tbody tr th:only-of-type {\n",
       "        vertical-align: middle;\n",
       "    }\n",
       "\n",
       "    .dataframe tbody tr th {\n",
       "        vertical-align: top;\n",
       "    }\n",
       "\n",
       "    .dataframe thead th {\n",
       "        text-align: right;\n",
       "    }\n",
       "</style>\n",
       "<table border=\"1\" class=\"dataframe\">\n",
       "  <thead>\n",
       "    <tr style=\"text-align: right;\">\n",
       "      <th></th>\n",
       "      <th>Gender</th>\n",
       "      <th>Race</th>\n",
       "      <th>Height</th>\n",
       "      <th>Weight</th>\n",
       "    </tr>\n",
       "  </thead>\n",
       "  <tbody>\n",
       "    <tr>\n",
       "      <th>0</th>\n",
       "      <td>Male</td>\n",
       "      <td>Human</td>\n",
       "      <td>203.0</td>\n",
       "      <td>441.0</td>\n",
       "    </tr>\n",
       "    <tr>\n",
       "      <th>1</th>\n",
       "      <td>Male</td>\n",
       "      <td>Icthyo Sapien</td>\n",
       "      <td>191.0</td>\n",
       "      <td>65.0</td>\n",
       "    </tr>\n",
       "    <tr>\n",
       "      <th>2</th>\n",
       "      <td>Male</td>\n",
       "      <td>Ungaran</td>\n",
       "      <td>185.0</td>\n",
       "      <td>90.0</td>\n",
       "    </tr>\n",
       "    <tr>\n",
       "      <th>3</th>\n",
       "      <td>Male</td>\n",
       "      <td>Human / Radiation</td>\n",
       "      <td>203.0</td>\n",
       "      <td>441.0</td>\n",
       "    </tr>\n",
       "    <tr>\n",
       "      <th>4</th>\n",
       "      <td>Male</td>\n",
       "      <td>Cosmic Entity</td>\n",
       "      <td>-99.0</td>\n",
       "      <td>-99.0</td>\n",
       "    </tr>\n",
       "  </tbody>\n",
       "</table>\n",
       "</div>"
      ],
      "text/plain": [
       "  Gender               Race  Height  Weight\n",
       "0   Male              Human   203.0   441.0\n",
       "1   Male      Icthyo Sapien   191.0    65.0\n",
       "2   Male            Ungaran   185.0    90.0\n",
       "3   Male  Human / Radiation   203.0   441.0\n",
       "4   Male      Cosmic Entity   -99.0   -99.0"
      ]
     },
     "execution_count": 29,
     "metadata": {},
     "output_type": "execute_result"
    }
   ],
   "source": [
    "data.head()"
   ]
  },
  {
   "cell_type": "code",
   "execution_count": 30,
   "metadata": {},
   "outputs": [
    {
     "data": {
      "text/plain": [
       "Gender     object\n",
       "Race       object\n",
       "Height    float64\n",
       "Weight    float64\n",
       "dtype: object"
      ]
     },
     "execution_count": 30,
     "metadata": {},
     "output_type": "execute_result"
    }
   ],
   "source": [
    "data.dtypes"
   ]
  },
  {
   "cell_type": "code",
   "execution_count": 31,
   "metadata": {},
   "outputs": [
    {
     "name": "stdout",
     "output_type": "stream",
     "text": [
      "['Gender', 'Race']\n",
      "['Height', 'Weight']\n"
     ]
    }
   ],
   "source": [
    "categorical_columns = [c for c in data.columns if data[c].dtype.name == 'object']\n",
    "numerical_columns   = [c for c in data.columns if data[c].dtype.name != 'object']\n",
    "print (categorical_columns)\n",
    "print(numerical_columns)"
   ]
  },
  {
   "cell_type": "code",
   "execution_count": 32,
   "metadata": {},
   "outputs": [
    {
     "name": "stdout",
     "output_type": "stream",
     "text": [
      "('Gender', array(['Male', 'Female'], dtype=object))\n",
      "('Race', array(['Human', 'Icthyo Sapien', 'Ungaran', 'Human / Radiation',\n",
      "       'Cosmic Entity', '-', 'Cyborg', 'Xenomorph XX121', 'Android',\n",
      "       'Vampire', 'Mutant', 'God / Eternal', 'Symbiote', 'Atlantean',\n",
      "       'Alien', 'Neyaphem', 'New God', 'Alpha', 'Bizarro', 'Inhuman',\n",
      "       'Metahuman', 'Demon', 'Human / Clone', 'Human-Kree',\n",
      "       'Dathomirian Zabrak', 'Amazon', 'Human / Cosmic',\n",
      "       'Human / Altered', 'Kryptonian', 'Kakarantharaian',\n",
      "       'Zen-Whoberian', 'Strontian', 'Kaiju', 'Saiyan', 'Gorilla',\n",
      "       'Rodian', 'Flora Colossus', 'Human-Vuldarian', 'Asgardian',\n",
      "       'Demi-God', 'Eternal', 'Gungan', 'Bolovaxian', 'Animal',\n",
      "       'Czarnian', 'Martian', 'Spartoi', 'Planet', 'Luphomoid',\n",
      "       'Parademon', 'Yautja', 'Maiar', 'Clone', 'Talokite', 'Korugaran',\n",
      "       'Zombie', 'Human-Vulcan', 'Human-Spartoi', 'Tamaranean',\n",
      "       'Frost Giant', 'Mutant / Clone', \"Yoda's species\"], dtype=object))\n"
     ]
    }
   ],
   "source": [
    "for c in categorical_columns:\n",
    "    print(c, data[c].unique())"
   ]
  },
  {
   "cell_type": "markdown",
   "metadata": {},
   "source": [
    "Заполним пропущенные значения переменных медианным значением."
   ]
  },
  {
   "cell_type": "code",
   "execution_count": 33,
   "metadata": {},
   "outputs": [
    {
     "data": {
      "text/plain": [
       "Height    175.0\n",
       "Weight     62.0\n",
       "dtype: float64"
      ]
     },
     "execution_count": 33,
     "metadata": {},
     "output_type": "execute_result"
    }
   ],
   "source": [
    "data.median(axis = 0)"
   ]
  },
  {
   "cell_type": "code",
   "execution_count": 34,
   "metadata": {},
   "outputs": [],
   "source": [
    "data = data.fillna(data.median(axis=0), axis=0)"
   ]
  },
  {
   "cell_type": "code",
   "execution_count": 35,
   "metadata": {},
   "outputs": [
    {
     "data": {
      "text/plain": [
       "Height    734\n",
       "Weight    734\n",
       "dtype: int64"
      ]
     },
     "execution_count": 35,
     "metadata": {},
     "output_type": "execute_result"
    }
   ],
   "source": [
    "data[numerical_columns].count(axis=0)"
   ]
  },
  {
   "cell_type": "code",
   "execution_count": 36,
   "metadata": {},
   "outputs": [
    {
     "data": {
      "text/plain": [
       "Gender    734\n",
       "Race      734\n",
       "dtype: int64"
      ]
     },
     "execution_count": 36,
     "metadata": {},
     "output_type": "execute_result"
    }
   ],
   "source": [
    "data[categorical_columns].count(axis = 0)"
   ]
  },
  {
   "cell_type": "code",
   "execution_count": 37,
   "metadata": {},
   "outputs": [
    {
     "data": {
      "text/html": [
       "<div>\n",
       "<style scoped>\n",
       "    .dataframe tbody tr th:only-of-type {\n",
       "        vertical-align: middle;\n",
       "    }\n",
       "\n",
       "    .dataframe tbody tr th {\n",
       "        vertical-align: top;\n",
       "    }\n",
       "\n",
       "    .dataframe thead th {\n",
       "        text-align: right;\n",
       "    }\n",
       "</style>\n",
       "<table border=\"1\" class=\"dataframe\">\n",
       "  <thead>\n",
       "    <tr style=\"text-align: right;\">\n",
       "      <th></th>\n",
       "      <th>Gender</th>\n",
       "      <th>Race</th>\n",
       "    </tr>\n",
       "  </thead>\n",
       "  <tbody>\n",
       "    <tr>\n",
       "      <th>count</th>\n",
       "      <td>734</td>\n",
       "      <td>734</td>\n",
       "    </tr>\n",
       "    <tr>\n",
       "      <th>unique</th>\n",
       "      <td>2</td>\n",
       "      <td>62</td>\n",
       "    </tr>\n",
       "    <tr>\n",
       "      <th>top</th>\n",
       "      <td>Male</td>\n",
       "      <td>-</td>\n",
       "    </tr>\n",
       "    <tr>\n",
       "      <th>freq</th>\n",
       "      <td>528</td>\n",
       "      <td>304</td>\n",
       "    </tr>\n",
       "  </tbody>\n",
       "</table>\n",
       "</div>"
      ],
      "text/plain": [
       "       Gender Race\n",
       "count     734  734\n",
       "unique      2   62\n",
       "top      Male    -\n",
       "freq      528  304"
      ]
     },
     "execution_count": 37,
     "metadata": {},
     "output_type": "execute_result"
    }
   ],
   "source": [
    "data.describe(include = [object])"
   ]
  },
  {
   "cell_type": "code",
   "execution_count": 38,
   "metadata": {},
   "outputs": [],
   "source": [
    "data_describe = data.describe(include =[object])\n",
    "for c in categorical_columns:\n",
    "    data[c] = data[c].fillna(data_describe[c]['top'])"
   ]
  },
  {
   "cell_type": "code",
   "execution_count": 39,
   "metadata": {},
   "outputs": [
    {
     "data": {
      "text/html": [
       "<div>\n",
       "<style scoped>\n",
       "    .dataframe tbody tr th:only-of-type {\n",
       "        vertical-align: middle;\n",
       "    }\n",
       "\n",
       "    .dataframe tbody tr th {\n",
       "        vertical-align: top;\n",
       "    }\n",
       "\n",
       "    .dataframe thead th {\n",
       "        text-align: right;\n",
       "    }\n",
       "</style>\n",
       "<table border=\"1\" class=\"dataframe\">\n",
       "  <thead>\n",
       "    <tr style=\"text-align: right;\">\n",
       "      <th></th>\n",
       "      <th>Gender</th>\n",
       "      <th>Race</th>\n",
       "    </tr>\n",
       "  </thead>\n",
       "  <tbody>\n",
       "    <tr>\n",
       "      <th>count</th>\n",
       "      <td>734</td>\n",
       "      <td>734</td>\n",
       "    </tr>\n",
       "    <tr>\n",
       "      <th>unique</th>\n",
       "      <td>2</td>\n",
       "      <td>62</td>\n",
       "    </tr>\n",
       "    <tr>\n",
       "      <th>top</th>\n",
       "      <td>Male</td>\n",
       "      <td>-</td>\n",
       "    </tr>\n",
       "    <tr>\n",
       "      <th>freq</th>\n",
       "      <td>528</td>\n",
       "      <td>304</td>\n",
       "    </tr>\n",
       "  </tbody>\n",
       "</table>\n",
       "</div>"
      ],
      "text/plain": [
       "       Gender Race\n",
       "count     734  734\n",
       "unique      2   62\n",
       "top      Male    -\n",
       "freq      528  304"
      ]
     },
     "execution_count": 39,
     "metadata": {},
     "output_type": "execute_result"
    }
   ],
   "source": [
    "data.describe(include = [object])"
   ]
  },
  {
   "cell_type": "markdown",
   "metadata": {},
   "source": [
    "### Векторизация"
   ]
  },
  {
   "cell_type": "code",
   "execution_count": 40,
   "metadata": {},
   "outputs": [
    {
     "name": "stdout",
     "output_type": "stream",
     "text": [
      "(['Gender'], ['Race'])\n"
     ]
    }
   ],
   "source": [
    "binary_columns = [c for c in categorical_columns if data_describe[c]['unique']==2]\n",
    "nonbinary_columns = [c for c in categorical_columns if data_describe[c]['unique']>2]\n",
    "print (binary_columns, nonbinary_columns)"
   ]
  },
  {
   "cell_type": "markdown",
   "metadata": {},
   "source": [
    "Признак 'Gender' является бинарным, к небинарному признаку 'Race' применим метод векторизации."
   ]
  },
  {
   "cell_type": "code",
   "execution_count": 41,
   "metadata": {},
   "outputs": [
    {
     "data": {
      "text/plain": [
       "array(['Male', 'Female'], dtype=object)"
      ]
     },
     "execution_count": 41,
     "metadata": {},
     "output_type": "execute_result"
    }
   ],
   "source": [
    "data['Gender'].unique()"
   ]
  },
  {
   "cell_type": "code",
   "execution_count": 42,
   "metadata": {},
   "outputs": [
    {
     "data": {
      "text/plain": [
       "count    734.000000\n",
       "mean       0.280654\n",
       "std        0.449625\n",
       "min        0.000000\n",
       "25%        0.000000\n",
       "50%        0.000000\n",
       "75%        1.000000\n",
       "max        1.000000\n",
       "Name: Gender, dtype: float64"
      ]
     },
     "execution_count": 42,
     "metadata": {},
     "output_type": "execute_result"
    }
   ],
   "source": [
    "data.at[data['Gender'] == 'Male', 'Gender'] = 0\n",
    "data.at[data['Gender'] == 'Female', 'Gender'] = 1\n",
    "data['Gender'].describe()"
   ]
  },
  {
   "cell_type": "code",
   "execution_count": 43,
   "metadata": {},
   "outputs": [
    {
     "name": "stdout",
     "output_type": "stream",
     "text": [
      "Index([u'Race_-', u'Race_Alien', u'Race_Alpha', u'Race_Amazon',\n",
      "       u'Race_Android', u'Race_Animal', u'Race_Asgardian', u'Race_Atlantean',\n",
      "       u'Race_Bizarro', u'Race_Bolovaxian', u'Race_Clone',\n",
      "       u'Race_Cosmic Entity', u'Race_Cyborg', u'Race_Czarnian',\n",
      "       u'Race_Dathomirian Zabrak', u'Race_Demi-God', u'Race_Demon',\n",
      "       u'Race_Eternal', u'Race_Flora Colossus', u'Race_Frost Giant',\n",
      "       u'Race_God / Eternal', u'Race_Gorilla', u'Race_Gungan', u'Race_Human',\n",
      "       u'Race_Human / Altered', u'Race_Human / Clone', u'Race_Human / Cosmic',\n",
      "       u'Race_Human / Radiation', u'Race_Human-Kree', u'Race_Human-Spartoi',\n",
      "       u'Race_Human-Vulcan', u'Race_Human-Vuldarian', u'Race_Icthyo Sapien',\n",
      "       u'Race_Inhuman', u'Race_Kaiju', u'Race_Kakarantharaian',\n",
      "       u'Race_Korugaran', u'Race_Kryptonian', u'Race_Luphomoid', u'Race_Maiar',\n",
      "       u'Race_Martian', u'Race_Metahuman', u'Race_Mutant',\n",
      "       u'Race_Mutant / Clone', u'Race_New God', u'Race_Neyaphem',\n",
      "       u'Race_Parademon', u'Race_Planet', u'Race_Rodian', u'Race_Saiyan',\n",
      "       u'Race_Spartoi', u'Race_Strontian', u'Race_Symbiote', u'Race_Talokite',\n",
      "       u'Race_Tamaranean', u'Race_Ungaran', u'Race_Vampire',\n",
      "       u'Race_Xenomorph XX121', u'Race_Yautja', u'Race_Yoda's species',\n",
      "       u'Race_Zen-Whoberian', u'Race_Zombie'],\n",
      "      dtype='object')\n"
     ]
    }
   ],
   "source": [
    "data_nonbinary = pd.get_dummies(data[nonbinary_columns])\n",
    "print(data_nonbinary.columns)"
   ]
  },
  {
   "cell_type": "markdown",
   "metadata": {},
   "source": [
    "### Нормализация количественных признаков"
   ]
  },
  {
   "cell_type": "code",
   "execution_count": 44,
   "metadata": {},
   "outputs": [
    {
     "data": {
      "text/html": [
       "<div>\n",
       "<style scoped>\n",
       "    .dataframe tbody tr th:only-of-type {\n",
       "        vertical-align: middle;\n",
       "    }\n",
       "\n",
       "    .dataframe tbody tr th {\n",
       "        vertical-align: top;\n",
       "    }\n",
       "\n",
       "    .dataframe thead th {\n",
       "        text-align: right;\n",
       "    }\n",
       "</style>\n",
       "<table border=\"1\" class=\"dataframe\">\n",
       "  <thead>\n",
       "    <tr style=\"text-align: right;\">\n",
       "      <th></th>\n",
       "      <th>Height</th>\n",
       "      <th>Weight</th>\n",
       "    </tr>\n",
       "  </thead>\n",
       "  <tbody>\n",
       "    <tr>\n",
       "      <th>count</th>\n",
       "      <td>734.000000</td>\n",
       "      <td>734.000000</td>\n",
       "    </tr>\n",
       "    <tr>\n",
       "      <th>mean</th>\n",
       "      <td>102.254087</td>\n",
       "      <td>43.904632</td>\n",
       "    </tr>\n",
       "    <tr>\n",
       "      <th>std</th>\n",
       "      <td>139.624543</td>\n",
       "      <td>130.648562</td>\n",
       "    </tr>\n",
       "    <tr>\n",
       "      <th>min</th>\n",
       "      <td>-99.000000</td>\n",
       "      <td>-99.000000</td>\n",
       "    </tr>\n",
       "    <tr>\n",
       "      <th>25%</th>\n",
       "      <td>-99.000000</td>\n",
       "      <td>-99.000000</td>\n",
       "    </tr>\n",
       "    <tr>\n",
       "      <th>50%</th>\n",
       "      <td>175.000000</td>\n",
       "      <td>62.000000</td>\n",
       "    </tr>\n",
       "    <tr>\n",
       "      <th>75%</th>\n",
       "      <td>185.000000</td>\n",
       "      <td>90.000000</td>\n",
       "    </tr>\n",
       "    <tr>\n",
       "      <th>max</th>\n",
       "      <td>975.000000</td>\n",
       "      <td>900.000000</td>\n",
       "    </tr>\n",
       "  </tbody>\n",
       "</table>\n",
       "</div>"
      ],
      "text/plain": [
       "           Height      Weight\n",
       "count  734.000000  734.000000\n",
       "mean   102.254087   43.904632\n",
       "std    139.624543  130.648562\n",
       "min    -99.000000  -99.000000\n",
       "25%    -99.000000  -99.000000\n",
       "50%    175.000000   62.000000\n",
       "75%    185.000000   90.000000\n",
       "max    975.000000  900.000000"
      ]
     },
     "execution_count": 44,
     "metadata": {},
     "output_type": "execute_result"
    }
   ],
   "source": [
    "data_numerical = data[numerical_columns]\n",
    "data_numerical.describe()"
   ]
  },
  {
   "cell_type": "code",
   "execution_count": 45,
   "metadata": {},
   "outputs": [],
   "source": [
    "data_numerical = (data_numerical - data_numerical.mean(axis = 0))/data_numerical.std(axis = 0)"
   ]
  },
  {
   "cell_type": "code",
   "execution_count": 46,
   "metadata": {},
   "outputs": [
    {
     "data": {
      "text/html": [
       "<div>\n",
       "<style scoped>\n",
       "    .dataframe tbody tr th:only-of-type {\n",
       "        vertical-align: middle;\n",
       "    }\n",
       "\n",
       "    .dataframe tbody tr th {\n",
       "        vertical-align: top;\n",
       "    }\n",
       "\n",
       "    .dataframe thead th {\n",
       "        text-align: right;\n",
       "    }\n",
       "</style>\n",
       "<table border=\"1\" class=\"dataframe\">\n",
       "  <thead>\n",
       "    <tr style=\"text-align: right;\">\n",
       "      <th></th>\n",
       "      <th>Height</th>\n",
       "      <th>Weight</th>\n",
       "    </tr>\n",
       "  </thead>\n",
       "  <tbody>\n",
       "    <tr>\n",
       "      <th>count</th>\n",
       "      <td>7.340000e+02</td>\n",
       "      <td>7.340000e+02</td>\n",
       "    </tr>\n",
       "    <tr>\n",
       "      <th>mean</th>\n",
       "      <td>-4.371314e-17</td>\n",
       "      <td>-8.553557e-17</td>\n",
       "    </tr>\n",
       "    <tr>\n",
       "      <th>std</th>\n",
       "      <td>1.000000e+00</td>\n",
       "      <td>1.000000e+00</td>\n",
       "    </tr>\n",
       "    <tr>\n",
       "      <th>min</th>\n",
       "      <td>-1.441395e+00</td>\n",
       "      <td>-1.093809e+00</td>\n",
       "    </tr>\n",
       "    <tr>\n",
       "      <th>25%</th>\n",
       "      <td>-1.441395e+00</td>\n",
       "      <td>-1.093809e+00</td>\n",
       "    </tr>\n",
       "    <tr>\n",
       "      <th>50%</th>\n",
       "      <td>5.210109e-01</td>\n",
       "      <td>1.385041e-01</td>\n",
       "    </tr>\n",
       "    <tr>\n",
       "      <th>75%</th>\n",
       "      <td>5.926316e-01</td>\n",
       "      <td>3.528196e-01</td>\n",
       "    </tr>\n",
       "    <tr>\n",
       "      <th>max</th>\n",
       "      <td>6.250663e+00</td>\n",
       "      <td>6.552658e+00</td>\n",
       "    </tr>\n",
       "  </tbody>\n",
       "</table>\n",
       "</div>"
      ],
      "text/plain": [
       "             Height        Weight\n",
       "count  7.340000e+02  7.340000e+02\n",
       "mean  -4.371314e-17 -8.553557e-17\n",
       "std    1.000000e+00  1.000000e+00\n",
       "min   -1.441395e+00 -1.093809e+00\n",
       "25%   -1.441395e+00 -1.093809e+00\n",
       "50%    5.210109e-01  1.385041e-01\n",
       "75%    5.926316e-01  3.528196e-01\n",
       "max    6.250663e+00  6.552658e+00"
      ]
     },
     "execution_count": 46,
     "metadata": {},
     "output_type": "execute_result"
    }
   ],
   "source": [
    "\n",
    "data_numerical.describe()"
   ]
  },
  {
   "cell_type": "markdown",
   "metadata": {},
   "source": [
    "#### Соединим все данные в одну таблицу"
   ]
  },
  {
   "cell_type": "code",
   "execution_count": 47,
   "metadata": {},
   "outputs": [
    {
     "data": {
      "text/html": [
       "<div>\n",
       "<style scoped>\n",
       "    .dataframe tbody tr th:only-of-type {\n",
       "        vertical-align: middle;\n",
       "    }\n",
       "\n",
       "    .dataframe tbody tr th {\n",
       "        vertical-align: top;\n",
       "    }\n",
       "\n",
       "    .dataframe thead th {\n",
       "        text-align: right;\n",
       "    }\n",
       "</style>\n",
       "<table border=\"1\" class=\"dataframe\">\n",
       "  <thead>\n",
       "    <tr style=\"text-align: right;\">\n",
       "      <th></th>\n",
       "      <th>Height</th>\n",
       "      <th>Weight</th>\n",
       "      <th>Race_-</th>\n",
       "      <th>Race_Alien</th>\n",
       "      <th>Race_Alpha</th>\n",
       "      <th>Race_Amazon</th>\n",
       "      <th>Race_Android</th>\n",
       "      <th>Race_Animal</th>\n",
       "      <th>Race_Asgardian</th>\n",
       "      <th>Race_Atlantean</th>\n",
       "      <th>...</th>\n",
       "      <th>Race_Talokite</th>\n",
       "      <th>Race_Tamaranean</th>\n",
       "      <th>Race_Ungaran</th>\n",
       "      <th>Race_Vampire</th>\n",
       "      <th>Race_Xenomorph XX121</th>\n",
       "      <th>Race_Yautja</th>\n",
       "      <th>Race_Yoda's species</th>\n",
       "      <th>Race_Zen-Whoberian</th>\n",
       "      <th>Race_Zombie</th>\n",
       "      <th>Gender</th>\n",
       "    </tr>\n",
       "  </thead>\n",
       "  <tbody>\n",
       "    <tr>\n",
       "      <th>count</th>\n",
       "      <td>7.340000e+02</td>\n",
       "      <td>7.340000e+02</td>\n",
       "      <td>734.000000</td>\n",
       "      <td>734.000000</td>\n",
       "      <td>734.000000</td>\n",
       "      <td>734.000000</td>\n",
       "      <td>734.000000</td>\n",
       "      <td>734.00000</td>\n",
       "      <td>734.000000</td>\n",
       "      <td>734.000000</td>\n",
       "      <td>...</td>\n",
       "      <td>734.000000</td>\n",
       "      <td>734.000000</td>\n",
       "      <td>734.000000</td>\n",
       "      <td>734.000000</td>\n",
       "      <td>734.000000</td>\n",
       "      <td>734.000000</td>\n",
       "      <td>734.000000</td>\n",
       "      <td>734.000000</td>\n",
       "      <td>734.000000</td>\n",
       "      <td>734.000000</td>\n",
       "    </tr>\n",
       "    <tr>\n",
       "      <th>mean</th>\n",
       "      <td>-4.371314e-17</td>\n",
       "      <td>-8.553557e-17</td>\n",
       "      <td>0.414169</td>\n",
       "      <td>0.009537</td>\n",
       "      <td>0.006812</td>\n",
       "      <td>0.002725</td>\n",
       "      <td>0.012262</td>\n",
       "      <td>0.00545</td>\n",
       "      <td>0.006812</td>\n",
       "      <td>0.006812</td>\n",
       "      <td>...</td>\n",
       "      <td>0.001362</td>\n",
       "      <td>0.001362</td>\n",
       "      <td>0.001362</td>\n",
       "      <td>0.002725</td>\n",
       "      <td>0.001362</td>\n",
       "      <td>0.001362</td>\n",
       "      <td>0.001362</td>\n",
       "      <td>0.001362</td>\n",
       "      <td>0.001362</td>\n",
       "      <td>0.280654</td>\n",
       "    </tr>\n",
       "    <tr>\n",
       "      <th>std</th>\n",
       "      <td>1.000000e+00</td>\n",
       "      <td>1.000000e+00</td>\n",
       "      <td>0.492914</td>\n",
       "      <td>0.097256</td>\n",
       "      <td>0.082309</td>\n",
       "      <td>0.052164</td>\n",
       "      <td>0.110126</td>\n",
       "      <td>0.07367</td>\n",
       "      <td>0.082309</td>\n",
       "      <td>0.082309</td>\n",
       "      <td>...</td>\n",
       "      <td>0.036911</td>\n",
       "      <td>0.036911</td>\n",
       "      <td>0.036911</td>\n",
       "      <td>0.052164</td>\n",
       "      <td>0.036911</td>\n",
       "      <td>0.036911</td>\n",
       "      <td>0.036911</td>\n",
       "      <td>0.036911</td>\n",
       "      <td>0.036911</td>\n",
       "      <td>0.449625</td>\n",
       "    </tr>\n",
       "    <tr>\n",
       "      <th>min</th>\n",
       "      <td>-1.441395e+00</td>\n",
       "      <td>-1.093809e+00</td>\n",
       "      <td>0.000000</td>\n",
       "      <td>0.000000</td>\n",
       "      <td>0.000000</td>\n",
       "      <td>0.000000</td>\n",
       "      <td>0.000000</td>\n",
       "      <td>0.00000</td>\n",
       "      <td>0.000000</td>\n",
       "      <td>0.000000</td>\n",
       "      <td>...</td>\n",
       "      <td>0.000000</td>\n",
       "      <td>0.000000</td>\n",
       "      <td>0.000000</td>\n",
       "      <td>0.000000</td>\n",
       "      <td>0.000000</td>\n",
       "      <td>0.000000</td>\n",
       "      <td>0.000000</td>\n",
       "      <td>0.000000</td>\n",
       "      <td>0.000000</td>\n",
       "      <td>0.000000</td>\n",
       "    </tr>\n",
       "    <tr>\n",
       "      <th>25%</th>\n",
       "      <td>-1.441395e+00</td>\n",
       "      <td>-1.093809e+00</td>\n",
       "      <td>0.000000</td>\n",
       "      <td>0.000000</td>\n",
       "      <td>0.000000</td>\n",
       "      <td>0.000000</td>\n",
       "      <td>0.000000</td>\n",
       "      <td>0.00000</td>\n",
       "      <td>0.000000</td>\n",
       "      <td>0.000000</td>\n",
       "      <td>...</td>\n",
       "      <td>0.000000</td>\n",
       "      <td>0.000000</td>\n",
       "      <td>0.000000</td>\n",
       "      <td>0.000000</td>\n",
       "      <td>0.000000</td>\n",
       "      <td>0.000000</td>\n",
       "      <td>0.000000</td>\n",
       "      <td>0.000000</td>\n",
       "      <td>0.000000</td>\n",
       "      <td>0.000000</td>\n",
       "    </tr>\n",
       "    <tr>\n",
       "      <th>50%</th>\n",
       "      <td>5.210109e-01</td>\n",
       "      <td>1.385041e-01</td>\n",
       "      <td>0.000000</td>\n",
       "      <td>0.000000</td>\n",
       "      <td>0.000000</td>\n",
       "      <td>0.000000</td>\n",
       "      <td>0.000000</td>\n",
       "      <td>0.00000</td>\n",
       "      <td>0.000000</td>\n",
       "      <td>0.000000</td>\n",
       "      <td>...</td>\n",
       "      <td>0.000000</td>\n",
       "      <td>0.000000</td>\n",
       "      <td>0.000000</td>\n",
       "      <td>0.000000</td>\n",
       "      <td>0.000000</td>\n",
       "      <td>0.000000</td>\n",
       "      <td>0.000000</td>\n",
       "      <td>0.000000</td>\n",
       "      <td>0.000000</td>\n",
       "      <td>0.000000</td>\n",
       "    </tr>\n",
       "    <tr>\n",
       "      <th>75%</th>\n",
       "      <td>5.926316e-01</td>\n",
       "      <td>3.528196e-01</td>\n",
       "      <td>1.000000</td>\n",
       "      <td>0.000000</td>\n",
       "      <td>0.000000</td>\n",
       "      <td>0.000000</td>\n",
       "      <td>0.000000</td>\n",
       "      <td>0.00000</td>\n",
       "      <td>0.000000</td>\n",
       "      <td>0.000000</td>\n",
       "      <td>...</td>\n",
       "      <td>0.000000</td>\n",
       "      <td>0.000000</td>\n",
       "      <td>0.000000</td>\n",
       "      <td>0.000000</td>\n",
       "      <td>0.000000</td>\n",
       "      <td>0.000000</td>\n",
       "      <td>0.000000</td>\n",
       "      <td>0.000000</td>\n",
       "      <td>0.000000</td>\n",
       "      <td>1.000000</td>\n",
       "    </tr>\n",
       "    <tr>\n",
       "      <th>max</th>\n",
       "      <td>6.250663e+00</td>\n",
       "      <td>6.552658e+00</td>\n",
       "      <td>1.000000</td>\n",
       "      <td>1.000000</td>\n",
       "      <td>1.000000</td>\n",
       "      <td>1.000000</td>\n",
       "      <td>1.000000</td>\n",
       "      <td>1.00000</td>\n",
       "      <td>1.000000</td>\n",
       "      <td>1.000000</td>\n",
       "      <td>...</td>\n",
       "      <td>1.000000</td>\n",
       "      <td>1.000000</td>\n",
       "      <td>1.000000</td>\n",
       "      <td>1.000000</td>\n",
       "      <td>1.000000</td>\n",
       "      <td>1.000000</td>\n",
       "      <td>1.000000</td>\n",
       "      <td>1.000000</td>\n",
       "      <td>1.000000</td>\n",
       "      <td>1.000000</td>\n",
       "    </tr>\n",
       "  </tbody>\n",
       "</table>\n",
       "<p>8 rows × 65 columns</p>\n",
       "</div>"
      ],
      "text/plain": [
       "             Height        Weight      Race_-  Race_Alien  Race_Alpha  \\\n",
       "count  7.340000e+02  7.340000e+02  734.000000  734.000000  734.000000   \n",
       "mean  -4.371314e-17 -8.553557e-17    0.414169    0.009537    0.006812   \n",
       "std    1.000000e+00  1.000000e+00    0.492914    0.097256    0.082309   \n",
       "min   -1.441395e+00 -1.093809e+00    0.000000    0.000000    0.000000   \n",
       "25%   -1.441395e+00 -1.093809e+00    0.000000    0.000000    0.000000   \n",
       "50%    5.210109e-01  1.385041e-01    0.000000    0.000000    0.000000   \n",
       "75%    5.926316e-01  3.528196e-01    1.000000    0.000000    0.000000   \n",
       "max    6.250663e+00  6.552658e+00    1.000000    1.000000    1.000000   \n",
       "\n",
       "       Race_Amazon  Race_Android  Race_Animal  Race_Asgardian  Race_Atlantean  \\\n",
       "count   734.000000    734.000000    734.00000      734.000000      734.000000   \n",
       "mean      0.002725      0.012262      0.00545        0.006812        0.006812   \n",
       "std       0.052164      0.110126      0.07367        0.082309        0.082309   \n",
       "min       0.000000      0.000000      0.00000        0.000000        0.000000   \n",
       "25%       0.000000      0.000000      0.00000        0.000000        0.000000   \n",
       "50%       0.000000      0.000000      0.00000        0.000000        0.000000   \n",
       "75%       0.000000      0.000000      0.00000        0.000000        0.000000   \n",
       "max       1.000000      1.000000      1.00000        1.000000        1.000000   \n",
       "\n",
       "          ...      Race_Talokite  Race_Tamaranean  Race_Ungaran  Race_Vampire  \\\n",
       "count     ...         734.000000       734.000000    734.000000    734.000000   \n",
       "mean      ...           0.001362         0.001362      0.001362      0.002725   \n",
       "std       ...           0.036911         0.036911      0.036911      0.052164   \n",
       "min       ...           0.000000         0.000000      0.000000      0.000000   \n",
       "25%       ...           0.000000         0.000000      0.000000      0.000000   \n",
       "50%       ...           0.000000         0.000000      0.000000      0.000000   \n",
       "75%       ...           0.000000         0.000000      0.000000      0.000000   \n",
       "max       ...           1.000000         1.000000      1.000000      1.000000   \n",
       "\n",
       "       Race_Xenomorph XX121  Race_Yautja  Race_Yoda's species  \\\n",
       "count            734.000000   734.000000           734.000000   \n",
       "mean               0.001362     0.001362             0.001362   \n",
       "std                0.036911     0.036911             0.036911   \n",
       "min                0.000000     0.000000             0.000000   \n",
       "25%                0.000000     0.000000             0.000000   \n",
       "50%                0.000000     0.000000             0.000000   \n",
       "75%                0.000000     0.000000             0.000000   \n",
       "max                1.000000     1.000000             1.000000   \n",
       "\n",
       "       Race_Zen-Whoberian  Race_Zombie      Gender  \n",
       "count          734.000000   734.000000  734.000000  \n",
       "mean             0.001362     0.001362    0.280654  \n",
       "std              0.036911     0.036911    0.449625  \n",
       "min              0.000000     0.000000    0.000000  \n",
       "25%              0.000000     0.000000    0.000000  \n",
       "50%              0.000000     0.000000    0.000000  \n",
       "75%              0.000000     0.000000    1.000000  \n",
       "max              1.000000     1.000000    1.000000  \n",
       "\n",
       "[8 rows x 65 columns]"
      ]
     },
     "execution_count": 47,
     "metadata": {},
     "output_type": "execute_result"
    }
   ],
   "source": [
    "data = pd.concat((data_numerical, data_nonbinary, data[binary_columns]), axis = 1)\n",
    "data.describe()"
   ]
  },
  {
   "cell_type": "code",
   "execution_count": 48,
   "metadata": {},
   "outputs": [
    {
     "data": {
      "text/html": [
       "<div>\n",
       "<style scoped>\n",
       "    .dataframe tbody tr th:only-of-type {\n",
       "        vertical-align: middle;\n",
       "    }\n",
       "\n",
       "    .dataframe tbody tr th {\n",
       "        vertical-align: top;\n",
       "    }\n",
       "\n",
       "    .dataframe thead th {\n",
       "        text-align: right;\n",
       "    }\n",
       "</style>\n",
       "<table border=\"1\" class=\"dataframe\">\n",
       "  <thead>\n",
       "    <tr style=\"text-align: right;\">\n",
       "      <th></th>\n",
       "      <th>Height</th>\n",
       "      <th>Weight</th>\n",
       "      <th>Race_-</th>\n",
       "      <th>Race_Alien</th>\n",
       "      <th>Race_Alpha</th>\n",
       "      <th>Race_Amazon</th>\n",
       "      <th>Race_Android</th>\n",
       "      <th>Race_Animal</th>\n",
       "      <th>Race_Asgardian</th>\n",
       "      <th>Race_Atlantean</th>\n",
       "      <th>...</th>\n",
       "      <th>Race_Talokite</th>\n",
       "      <th>Race_Tamaranean</th>\n",
       "      <th>Race_Ungaran</th>\n",
       "      <th>Race_Vampire</th>\n",
       "      <th>Race_Xenomorph XX121</th>\n",
       "      <th>Race_Yautja</th>\n",
       "      <th>Race_Yoda's species</th>\n",
       "      <th>Race_Zen-Whoberian</th>\n",
       "      <th>Race_Zombie</th>\n",
       "      <th>Gender</th>\n",
       "    </tr>\n",
       "  </thead>\n",
       "  <tbody>\n",
       "    <tr>\n",
       "      <th>count</th>\n",
       "      <td>7.340000e+02</td>\n",
       "      <td>7.340000e+02</td>\n",
       "      <td>734.000000</td>\n",
       "      <td>734.000000</td>\n",
       "      <td>734.000000</td>\n",
       "      <td>734.000000</td>\n",
       "      <td>734.000000</td>\n",
       "      <td>734.00000</td>\n",
       "      <td>734.000000</td>\n",
       "      <td>734.000000</td>\n",
       "      <td>...</td>\n",
       "      <td>734.000000</td>\n",
       "      <td>734.000000</td>\n",
       "      <td>734.000000</td>\n",
       "      <td>734.000000</td>\n",
       "      <td>734.000000</td>\n",
       "      <td>734.000000</td>\n",
       "      <td>734.000000</td>\n",
       "      <td>734.000000</td>\n",
       "      <td>734.000000</td>\n",
       "      <td>734.000000</td>\n",
       "    </tr>\n",
       "    <tr>\n",
       "      <th>mean</th>\n",
       "      <td>-4.371314e-17</td>\n",
       "      <td>-8.553557e-17</td>\n",
       "      <td>0.414169</td>\n",
       "      <td>0.009537</td>\n",
       "      <td>0.006812</td>\n",
       "      <td>0.002725</td>\n",
       "      <td>0.012262</td>\n",
       "      <td>0.00545</td>\n",
       "      <td>0.006812</td>\n",
       "      <td>0.006812</td>\n",
       "      <td>...</td>\n",
       "      <td>0.001362</td>\n",
       "      <td>0.001362</td>\n",
       "      <td>0.001362</td>\n",
       "      <td>0.002725</td>\n",
       "      <td>0.001362</td>\n",
       "      <td>0.001362</td>\n",
       "      <td>0.001362</td>\n",
       "      <td>0.001362</td>\n",
       "      <td>0.001362</td>\n",
       "      <td>0.280654</td>\n",
       "    </tr>\n",
       "    <tr>\n",
       "      <th>std</th>\n",
       "      <td>1.000000e+00</td>\n",
       "      <td>1.000000e+00</td>\n",
       "      <td>0.492914</td>\n",
       "      <td>0.097256</td>\n",
       "      <td>0.082309</td>\n",
       "      <td>0.052164</td>\n",
       "      <td>0.110126</td>\n",
       "      <td>0.07367</td>\n",
       "      <td>0.082309</td>\n",
       "      <td>0.082309</td>\n",
       "      <td>...</td>\n",
       "      <td>0.036911</td>\n",
       "      <td>0.036911</td>\n",
       "      <td>0.036911</td>\n",
       "      <td>0.052164</td>\n",
       "      <td>0.036911</td>\n",
       "      <td>0.036911</td>\n",
       "      <td>0.036911</td>\n",
       "      <td>0.036911</td>\n",
       "      <td>0.036911</td>\n",
       "      <td>0.449625</td>\n",
       "    </tr>\n",
       "    <tr>\n",
       "      <th>min</th>\n",
       "      <td>-1.441395e+00</td>\n",
       "      <td>-1.093809e+00</td>\n",
       "      <td>0.000000</td>\n",
       "      <td>0.000000</td>\n",
       "      <td>0.000000</td>\n",
       "      <td>0.000000</td>\n",
       "      <td>0.000000</td>\n",
       "      <td>0.00000</td>\n",
       "      <td>0.000000</td>\n",
       "      <td>0.000000</td>\n",
       "      <td>...</td>\n",
       "      <td>0.000000</td>\n",
       "      <td>0.000000</td>\n",
       "      <td>0.000000</td>\n",
       "      <td>0.000000</td>\n",
       "      <td>0.000000</td>\n",
       "      <td>0.000000</td>\n",
       "      <td>0.000000</td>\n",
       "      <td>0.000000</td>\n",
       "      <td>0.000000</td>\n",
       "      <td>0.000000</td>\n",
       "    </tr>\n",
       "    <tr>\n",
       "      <th>25%</th>\n",
       "      <td>-1.441395e+00</td>\n",
       "      <td>-1.093809e+00</td>\n",
       "      <td>0.000000</td>\n",
       "      <td>0.000000</td>\n",
       "      <td>0.000000</td>\n",
       "      <td>0.000000</td>\n",
       "      <td>0.000000</td>\n",
       "      <td>0.00000</td>\n",
       "      <td>0.000000</td>\n",
       "      <td>0.000000</td>\n",
       "      <td>...</td>\n",
       "      <td>0.000000</td>\n",
       "      <td>0.000000</td>\n",
       "      <td>0.000000</td>\n",
       "      <td>0.000000</td>\n",
       "      <td>0.000000</td>\n",
       "      <td>0.000000</td>\n",
       "      <td>0.000000</td>\n",
       "      <td>0.000000</td>\n",
       "      <td>0.000000</td>\n",
       "      <td>0.000000</td>\n",
       "    </tr>\n",
       "    <tr>\n",
       "      <th>50%</th>\n",
       "      <td>5.210109e-01</td>\n",
       "      <td>1.385041e-01</td>\n",
       "      <td>0.000000</td>\n",
       "      <td>0.000000</td>\n",
       "      <td>0.000000</td>\n",
       "      <td>0.000000</td>\n",
       "      <td>0.000000</td>\n",
       "      <td>0.00000</td>\n",
       "      <td>0.000000</td>\n",
       "      <td>0.000000</td>\n",
       "      <td>...</td>\n",
       "      <td>0.000000</td>\n",
       "      <td>0.000000</td>\n",
       "      <td>0.000000</td>\n",
       "      <td>0.000000</td>\n",
       "      <td>0.000000</td>\n",
       "      <td>0.000000</td>\n",
       "      <td>0.000000</td>\n",
       "      <td>0.000000</td>\n",
       "      <td>0.000000</td>\n",
       "      <td>0.000000</td>\n",
       "    </tr>\n",
       "    <tr>\n",
       "      <th>75%</th>\n",
       "      <td>5.926316e-01</td>\n",
       "      <td>3.528196e-01</td>\n",
       "      <td>1.000000</td>\n",
       "      <td>0.000000</td>\n",
       "      <td>0.000000</td>\n",
       "      <td>0.000000</td>\n",
       "      <td>0.000000</td>\n",
       "      <td>0.00000</td>\n",
       "      <td>0.000000</td>\n",
       "      <td>0.000000</td>\n",
       "      <td>...</td>\n",
       "      <td>0.000000</td>\n",
       "      <td>0.000000</td>\n",
       "      <td>0.000000</td>\n",
       "      <td>0.000000</td>\n",
       "      <td>0.000000</td>\n",
       "      <td>0.000000</td>\n",
       "      <td>0.000000</td>\n",
       "      <td>0.000000</td>\n",
       "      <td>0.000000</td>\n",
       "      <td>1.000000</td>\n",
       "    </tr>\n",
       "    <tr>\n",
       "      <th>max</th>\n",
       "      <td>6.250663e+00</td>\n",
       "      <td>6.552658e+00</td>\n",
       "      <td>1.000000</td>\n",
       "      <td>1.000000</td>\n",
       "      <td>1.000000</td>\n",
       "      <td>1.000000</td>\n",
       "      <td>1.000000</td>\n",
       "      <td>1.00000</td>\n",
       "      <td>1.000000</td>\n",
       "      <td>1.000000</td>\n",
       "      <td>...</td>\n",
       "      <td>1.000000</td>\n",
       "      <td>1.000000</td>\n",
       "      <td>1.000000</td>\n",
       "      <td>1.000000</td>\n",
       "      <td>1.000000</td>\n",
       "      <td>1.000000</td>\n",
       "      <td>1.000000</td>\n",
       "      <td>1.000000</td>\n",
       "      <td>1.000000</td>\n",
       "      <td>1.000000</td>\n",
       "    </tr>\n",
       "  </tbody>\n",
       "</table>\n",
       "<p>8 rows × 65 columns</p>\n",
       "</div>"
      ],
      "text/plain": [
       "             Height        Weight      Race_-  Race_Alien  Race_Alpha  \\\n",
       "count  7.340000e+02  7.340000e+02  734.000000  734.000000  734.000000   \n",
       "mean  -4.371314e-17 -8.553557e-17    0.414169    0.009537    0.006812   \n",
       "std    1.000000e+00  1.000000e+00    0.492914    0.097256    0.082309   \n",
       "min   -1.441395e+00 -1.093809e+00    0.000000    0.000000    0.000000   \n",
       "25%   -1.441395e+00 -1.093809e+00    0.000000    0.000000    0.000000   \n",
       "50%    5.210109e-01  1.385041e-01    0.000000    0.000000    0.000000   \n",
       "75%    5.926316e-01  3.528196e-01    1.000000    0.000000    0.000000   \n",
       "max    6.250663e+00  6.552658e+00    1.000000    1.000000    1.000000   \n",
       "\n",
       "       Race_Amazon  Race_Android  Race_Animal  Race_Asgardian  Race_Atlantean  \\\n",
       "count   734.000000    734.000000    734.00000      734.000000      734.000000   \n",
       "mean      0.002725      0.012262      0.00545        0.006812        0.006812   \n",
       "std       0.052164      0.110126      0.07367        0.082309        0.082309   \n",
       "min       0.000000      0.000000      0.00000        0.000000        0.000000   \n",
       "25%       0.000000      0.000000      0.00000        0.000000        0.000000   \n",
       "50%       0.000000      0.000000      0.00000        0.000000        0.000000   \n",
       "75%       0.000000      0.000000      0.00000        0.000000        0.000000   \n",
       "max       1.000000      1.000000      1.00000        1.000000        1.000000   \n",
       "\n",
       "          ...      Race_Talokite  Race_Tamaranean  Race_Ungaran  Race_Vampire  \\\n",
       "count     ...         734.000000       734.000000    734.000000    734.000000   \n",
       "mean      ...           0.001362         0.001362      0.001362      0.002725   \n",
       "std       ...           0.036911         0.036911      0.036911      0.052164   \n",
       "min       ...           0.000000         0.000000      0.000000      0.000000   \n",
       "25%       ...           0.000000         0.000000      0.000000      0.000000   \n",
       "50%       ...           0.000000         0.000000      0.000000      0.000000   \n",
       "75%       ...           0.000000         0.000000      0.000000      0.000000   \n",
       "max       ...           1.000000         1.000000      1.000000      1.000000   \n",
       "\n",
       "       Race_Xenomorph XX121  Race_Yautja  Race_Yoda's species  \\\n",
       "count            734.000000   734.000000           734.000000   \n",
       "mean               0.001362     0.001362             0.001362   \n",
       "std                0.036911     0.036911             0.036911   \n",
       "min                0.000000     0.000000             0.000000   \n",
       "25%                0.000000     0.000000             0.000000   \n",
       "50%                0.000000     0.000000             0.000000   \n",
       "75%                0.000000     0.000000             0.000000   \n",
       "max                1.000000     1.000000             1.000000   \n",
       "\n",
       "       Race_Zen-Whoberian  Race_Zombie      Gender  \n",
       "count          734.000000   734.000000  734.000000  \n",
       "mean             0.001362     0.001362    0.280654  \n",
       "std              0.036911     0.036911    0.449625  \n",
       "min              0.000000     0.000000    0.000000  \n",
       "25%              0.000000     0.000000    0.000000  \n",
       "50%              0.000000     0.000000    0.000000  \n",
       "75%              0.000000     0.000000    1.000000  \n",
       "max              1.000000     1.000000    1.000000  \n",
       "\n",
       "[8 rows x 65 columns]"
      ]
     },
     "execution_count": 48,
     "metadata": {},
     "output_type": "execute_result"
    }
   ],
   "source": [
    "data.describe()"
   ]
  },
  {
   "cell_type": "markdown",
   "metadata": {},
   "source": [
    "### X и y"
   ]
  },
  {
   "cell_type": "code",
   "execution_count": 49,
   "metadata": {},
   "outputs": [
    {
     "data": {
      "text/plain": [
       "Index([u'Height', u'Weight', u'Race_-', u'Race_Alien', u'Race_Alpha',\n",
       "       u'Race_Amazon', u'Race_Android', u'Race_Animal', u'Race_Asgardian',\n",
       "       u'Race_Atlantean', u'Race_Bizarro', u'Race_Bolovaxian', u'Race_Clone',\n",
       "       u'Race_Cosmic Entity', u'Race_Cyborg', u'Race_Czarnian',\n",
       "       u'Race_Dathomirian Zabrak', u'Race_Demi-God', u'Race_Demon',\n",
       "       u'Race_Eternal', u'Race_Flora Colossus', u'Race_Frost Giant',\n",
       "       u'Race_God / Eternal', u'Race_Gorilla', u'Race_Gungan', u'Race_Human',\n",
       "       u'Race_Human / Altered', u'Race_Human / Clone', u'Race_Human / Cosmic',\n",
       "       u'Race_Human / Radiation', u'Race_Human-Kree', u'Race_Human-Spartoi',\n",
       "       u'Race_Human-Vulcan', u'Race_Human-Vuldarian', u'Race_Icthyo Sapien',\n",
       "       u'Race_Inhuman', u'Race_Kaiju', u'Race_Kakarantharaian',\n",
       "       u'Race_Korugaran', u'Race_Kryptonian', u'Race_Luphomoid', u'Race_Maiar',\n",
       "       u'Race_Martian', u'Race_Metahuman', u'Race_Mutant',\n",
       "       u'Race_Mutant / Clone', u'Race_New God', u'Race_Neyaphem',\n",
       "       u'Race_Parademon', u'Race_Planet', u'Race_Rodian', u'Race_Saiyan',\n",
       "       u'Race_Spartoi', u'Race_Strontian', u'Race_Symbiote', u'Race_Talokite',\n",
       "       u'Race_Tamaranean', u'Race_Ungaran', u'Race_Vampire',\n",
       "       u'Race_Xenomorph XX121', u'Race_Yautja', u'Race_Yoda's species',\n",
       "       u'Race_Zen-Whoberian', u'Race_Zombie'],\n",
       "      dtype='object')"
      ]
     },
     "execution_count": 49,
     "metadata": {},
     "output_type": "execute_result"
    }
   ],
   "source": [
    "X = data.drop(('Gender'), axis = 1) #Выбрасываем столбец 'Gender'\n",
    "y = data['Gender']\n",
    "feature_names = X.columns\n",
    "feature_names"
   ]
  },
  {
   "cell_type": "code",
   "execution_count": 50,
   "metadata": {},
   "outputs": [
    {
     "name": "stdout",
     "output_type": "stream",
     "text": [
      "(734, 64)\n",
      "(734L,)\n"
     ]
    }
   ],
   "source": [
    "print(X.shape)\n",
    "print(y.shape)\n",
    "N, d = X.shape"
   ]
  },
  {
   "cell_type": "code",
   "execution_count": 51,
   "metadata": {},
   "outputs": [
    {
     "data": {
      "text/plain": [
       "pandas.core.frame.DataFrame"
      ]
     },
     "execution_count": 51,
     "metadata": {},
     "output_type": "execute_result"
    }
   ],
   "source": [
    "type(X)"
   ]
  },
  {
   "cell_type": "code",
   "execution_count": 52,
   "metadata": {},
   "outputs": [
    {
     "data": {
      "text/plain": [
       "pandas.core.series.Series"
      ]
     },
     "execution_count": 52,
     "metadata": {},
     "output_type": "execute_result"
    }
   ],
   "source": [
    "type(y)"
   ]
  },
  {
   "cell_type": "code",
   "execution_count": 53,
   "metadata": {},
   "outputs": [
    {
     "name": "stdout",
     "output_type": "stream",
     "text": [
      "(513, 221)\n"
     ]
    }
   ],
   "source": [
    "from sklearn.model_selection import train_test_split\n",
    "X_train, X_test, y_train, y_test = train_test_split(X, y, test_size = 0.3, random_state = 42)\n",
    "\n",
    "N_train, _ = X_train.shape \n",
    "N_test,  _ = X_test.shape \n",
    "\n",
    "print(N_train, N_test)"
   ]
  },
  {
   "cell_type": "code",
   "execution_count": 54,
   "metadata": {},
   "outputs": [
    {
     "data": {
      "text/plain": [
       "734"
      ]
     },
     "execution_count": 54,
     "metadata": {},
     "output_type": "execute_result"
    }
   ],
   "source": [
    "513+221"
   ]
  },
  {
   "cell_type": "markdown",
   "metadata": {},
   "source": [
    "### KNN"
   ]
  },
  {
   "cell_type": "code",
   "execution_count": 55,
   "metadata": {},
   "outputs": [
    {
     "data": {
      "text/plain": [
       "KNeighborsClassifier(algorithm='auto', leaf_size=30, metric='minkowski',\n",
       "           metric_params=None, n_jobs=1, n_neighbors=10, p=2,\n",
       "           weights='uniform')"
      ]
     },
     "execution_count": 55,
     "metadata": {},
     "output_type": "execute_result"
    }
   ],
   "source": [
    "from sklearn.neighbors import KNeighborsClassifier\n",
    "\n",
    "knn = KNeighborsClassifier(n_neighbors = 10)\n",
    "#knn.set_params(n_neighbors=10)\n",
    "knn.fit(X_train, y_train)"
   ]
  },
  {
   "cell_type": "code",
   "execution_count": 56,
   "metadata": {},
   "outputs": [
    {
     "data": {
      "text/plain": [
       "KNeighborsClassifier(algorithm='auto', leaf_size=30, metric='minkowski',\n",
       "           metric_params=None, n_jobs=1, n_neighbors=10, p=2,\n",
       "           weights='uniform')"
      ]
     },
     "execution_count": 56,
     "metadata": {},
     "output_type": "execute_result"
    }
   ],
   "source": [
    "knn"
   ]
  },
  {
   "cell_type": "code",
   "execution_count": 57,
   "metadata": {},
   "outputs": [
    {
     "name": "stdout",
     "output_type": "stream",
     "text": [
      "(0.17348927875243664, 0.18552036199095023)\n"
     ]
    }
   ],
   "source": [
    "y_train_predict = knn.predict(X_train)\n",
    "y_test_predict = knn.predict(X_test)\n",
    "\n",
    "err_train = np.mean(y_train != y_train_predict)\n",
    "err_test  = np.mean(y_test  != y_test_predict)\n",
    "\n",
    "print(err_train, err_test)"
   ]
  },
  {
   "cell_type": "code",
   "execution_count": 58,
   "metadata": {},
   "outputs": [],
   "source": [
    "err_test = 1 - knn.score(X_test, y_test)"
   ]
  },
  {
   "cell_type": "code",
   "execution_count": 59,
   "metadata": {},
   "outputs": [
    {
     "data": {
      "text/plain": [
       "0.18552036199095023"
      ]
     },
     "execution_count": 59,
     "metadata": {},
     "output_type": "execute_result"
    }
   ],
   "source": [
    "err_test"
   ]
  },
  {
   "cell_type": "code",
   "execution_count": 60,
   "metadata": {},
   "outputs": [
    {
     "name": "stdout",
     "output_type": "stream",
     "text": [
      "[[144  12]\n",
      " [ 29  36]]\n"
     ]
    }
   ],
   "source": [
    "from sklearn.metrics import confusion_matrix\n",
    "\n",
    "print(confusion_matrix(y_test, y_test_predict))"
   ]
  },
  {
   "cell_type": "code",
   "execution_count": 61,
   "metadata": {},
   "outputs": [
    {
     "data": {
      "text/plain": [
       "array([[3, 0],\n",
       "       [1, 1]], dtype=int64)"
      ]
     },
     "execution_count": 61,
     "metadata": {},
     "output_type": "execute_result"
    }
   ],
   "source": [
    "confusion_matrix([0,1,0,1,0], [0,1,0,0,0])"
   ]
  },
  {
   "cell_type": "markdown",
   "metadata": {},
   "source": [
    "### Подбор параметров"
   ]
  },
  {
   "cell_type": "code",
   "execution_count": 62,
   "metadata": {},
   "outputs": [
    {
     "name": "stdout",
     "output_type": "stream",
     "text": [
      "(0.1871345029239766, 10)\n"
     ]
    }
   ],
   "source": [
    "from sklearn.model_selection import GridSearchCV\n",
    "nnb = [1, 3, 5, 10, 15, 20, 25, 35, 45, 55]\n",
    "knn = KNeighborsClassifier()\n",
    "grid = GridSearchCV(knn, param_grid = {'n_neighbors': nnb}, cv=10)\n",
    "grid.fit(X_train, y_train)\n",
    "\n",
    "best_cv_err = 1 - grid.best_score_\n",
    "best_n_neighbors = grid.best_estimator_.n_neighbors\n",
    "print(best_cv_err, best_n_neighbors)"
   ]
  },
  {
   "cell_type": "code",
   "execution_count": 63,
   "metadata": {},
   "outputs": [
    {
     "name": "stdout",
     "output_type": "stream",
     "text": [
      "(0.17348927875243664, 0.18552036199095023)\n"
     ]
    }
   ],
   "source": [
    "knn = KNeighborsClassifier(n_neighbors = best_n_neighbors).fit(X_train, y_train)\n",
    "\n",
    "err_train = np.mean(y_train != knn.predict(X_train))\n",
    "err_test  = np.mean(y_test  != knn.predict(X_test))\n",
    "\n",
    "print(err_train, err_test)"
   ]
  },
  {
   "cell_type": "markdown",
   "metadata": {},
   "source": [
    "При подборе параметров значение числа соседей не изменилось, поэтому результат работы остался прежним."
   ]
  },
  {
   "cell_type": "markdown",
   "metadata": {},
   "source": [
    "### MLP\n"
   ]
  },
  {
   "cell_type": "markdown",
   "metadata": {},
   "source": [
    "#### Разбиваем данные на обучающую и тестовую выборки\n"
   ]
  },
  {
   "cell_type": "code",
   "execution_count": 64,
   "metadata": {},
   "outputs": [],
   "source": [
    "from sklearn.model_selection import train_test_split\n",
    "X_train, X_test, y_train, y_test = train_test_split(X, y, test_size = 0.33, random_state = 42)\n",
    "N_test, _ = X_test.shape"
   ]
  },
  {
   "cell_type": "markdown",
   "metadata": {},
   "source": [
    "#### Обучаем классификатор\n"
   ]
  },
  {
   "cell_type": "code",
   "execution_count": 65,
   "metadata": {},
   "outputs": [],
   "source": [
    "from sklearn.neural_network import MLPClassifier"
   ]
  },
  {
   "cell_type": "markdown",
   "metadata": {},
   "source": [
    "##### Имеем один скрытый слой со 100 нейронами"
   ]
  },
  {
   "cell_type": "code",
   "execution_count": 66,
   "metadata": {},
   "outputs": [
    {
     "data": {
      "text/plain": [
       "MLPClassifier(activation='logistic', alpha=0.0001, batch_size='auto',\n",
       "       beta_1=0.9, beta_2=0.999, early_stopping=False, epsilon=1e-08,\n",
       "       hidden_layer_sizes=(100,), learning_rate='constant',\n",
       "       learning_rate_init=0.001, max_iter=200, momentum=0.9,\n",
       "       nesterovs_momentum=True, power_t=0.5, random_state=42, shuffle=True,\n",
       "       solver='lbfgs', tol=0.0001, validation_fraction=0.1, verbose=False,\n",
       "       warm_start=False)"
      ]
     },
     "execution_count": 66,
     "metadata": {},
     "output_type": "execute_result"
    }
   ],
   "source": [
    "mlp_model = MLPClassifier(hidden_layer_sizes = (100,), solver = 'lbfgs', \n",
    "                          activation = 'logistic', random_state = 42)\n",
    "mlp_model.fit(X_train, y_train)"
   ]
  },
  {
   "cell_type": "code",
   "execution_count": 67,
   "metadata": {},
   "outputs": [],
   "source": [
    "y_train_pred = mlp_model.predict(X_train)\n",
    "y_test_pred = mlp_model.predict(X_test)"
   ]
  },
  {
   "cell_type": "markdown",
   "metadata": {},
   "source": [
    "Ошибки на обучающей и тестовой выборках:"
   ]
  },
  {
   "cell_type": "code",
   "execution_count": 68,
   "metadata": {},
   "outputs": [
    {
     "name": "stdout",
     "output_type": "stream",
     "text": [
      "(0.11812627291242363, 0.1934156378600823)\n"
     ]
    }
   ],
   "source": [
    "print(np.mean(y_train != y_train_pred), np.mean(y_test != y_test_pred))"
   ]
  },
  {
   "cell_type": "markdown",
   "metadata": {},
   "source": [
    "Ошибка составила 19%, наблюдается переобучение."
   ]
  },
  {
   "cell_type": "markdown",
   "metadata": {},
   "source": [
    "### Подбор гиперпараметров\n",
    "Подберем оптимальное значение параметра регуляризации alpha"
   ]
  },
  {
   "cell_type": "code",
   "execution_count": 69,
   "metadata": {},
   "outputs": [],
   "source": [
    "alpha_arr = np.logspace(-3, 2, 21)\n",
    "test_err = []\n",
    "train_err = []\n",
    "for alpha in alpha_arr:\n",
    "    mlp_model = MLPClassifier(alpha = alpha, hidden_layer_sizes = (100,), \n",
    "                              solver = 'lbfgs', activation = 'logistic', random_state = 42)\n",
    "    mlp_model.fit(X_train, y_train)\n",
    "\n",
    "    y_train_pred = mlp_model.predict(X_train)\n",
    "    y_test_pred = mlp_model.predict(X_test)\n",
    "    train_err.append(np.mean(y_train != y_train_pred))\n",
    "    test_err.append(np.mean(y_test != y_test_pred))"
   ]
  },
  {
   "cell_type": "code",
   "execution_count": 70,
   "metadata": {},
   "outputs": [
    {
     "data": {
      "image/png": "[encoded data removed]",
      "text/plain": [
       "<Figure size 432x288 with 1 Axes>"
      ]
     },
     "metadata": {},
     "output_type": "display_data"
    }
   ],
   "source": [
    "plt.semilogx(alpha_arr, train_err, 'b-o', label = 'test')\n",
    "plt.semilogx(alpha_arr, test_err, 'r-o', label = 'train')\n",
    "plt.xlim([np.max(alpha_arr), np.min(alpha_arr)])\n",
    "plt.title('Error vs. alpha')\n",
    "plt.xlabel('alpha')\n",
    "plt.ylabel('error')\n",
    "plt.legend()\n",
    "pass"
   ]
  },
  {
   "cell_type": "markdown",
   "metadata": {},
   "source": [
    "Минимальное значение ошибки:"
   ]
  },
  {
   "cell_type": "code",
   "execution_count": 71,
   "metadata": {},
   "outputs": [
    {
     "name": "stdout",
     "output_type": "stream",
     "text": [
      "(0.12016293279022404, 0.1646090534979424)\n"
     ]
    }
   ],
   "source": [
    "min_train_err = np.min(train_err)\n",
    "min_test_err = np.min(test_err)\n",
    "print(min_train_err, min_test_err)"
   ]
  },
  {
   "cell_type": "markdown",
   "metadata": {},
   "source": [
    "Оптимальное значение alpha:"
   ]
  },
  {
   "cell_type": "code",
   "execution_count": 72,
   "metadata": {},
   "outputs": [
    {
     "name": "stdout",
     "output_type": "stream",
     "text": [
      "[0.05623413]\n"
     ]
    }
   ],
   "source": [
    "alpha_opt = alpha_arr[test_err == min_test_err]\n",
    "print(alpha_opt)"
   ]
  },
  {
   "cell_type": "code",
   "execution_count": 73,
   "metadata": {},
   "outputs": [],
   "source": [
    "alpha_opt = alpha_opt[0]"
   ]
  },
  {
   "cell_type": "markdown",
   "metadata": {},
   "source": [
    "Повторим обучение при найденном оптимальном значении alpha:"
   ]
  },
  {
   "cell_type": "code",
   "execution_count": 74,
   "metadata": {},
   "outputs": [
    {
     "name": "stdout",
     "output_type": "stream",
     "text": [
      "0.14052953156822812\n",
      "0.1646090534979424\n"
     ]
    }
   ],
   "source": [
    "mlp_model = MLPClassifier(alpha = alpha_opt, hidden_layer_sizes = (100,),\n",
    "                          solver = 'lbfgs', activation = 'logistic', random_state = 42)\n",
    "mlp_model.fit(X_train, y_train)\n",
    "\n",
    "y_train_pred = mlp_model.predict(X_train)\n",
    "y_test_pred = mlp_model.predict(X_test)\n",
    "print(np.mean(y_train != y_train_pred))\n",
    "print(np.mean(y_test != y_test_pred))"
   ]
  },
  {
   "cell_type": "markdown",
   "metadata": {},
   "source": [
    "Значение ошибки уменьшилось до 16.4%"
   ]
  },
  {
   "cell_type": "markdown",
   "metadata": {},
   "source": [
    "Матрица рассогласования:"
   ]
  },
  {
   "cell_type": "code",
   "execution_count": 75,
   "metadata": {},
   "outputs": [
    {
     "name": "stdout",
     "output_type": "stream",
     "text": [
      "[[159  25]\n",
      " [ 15  44]]\n"
     ]
    }
   ],
   "source": [
    "from sklearn.metrics import confusion_matrix\n",
    "print(confusion_matrix(y_test_pred, y_test))"
   ]
  },
  {
   "cell_type": "markdown",
   "metadata": {},
   "source": [
    "Другие метрики качества:"
   ]
  },
  {
   "cell_type": "code",
   "execution_count": 76,
   "metadata": {},
   "outputs": [
    {
     "name": "stdout",
     "output_type": "stream",
     "text": [
      "             precision    recall  f1-score   support\n",
      "\n",
      "          0       0.86      0.91      0.89       174\n",
      "          1       0.75      0.64      0.69        69\n",
      "\n",
      "avg / total       0.83      0.84      0.83       243\n",
      "\n"
     ]
    }
   ],
   "source": [
    "from sklearn.metrics import classification_report\n",
    "print(classification_report(y_test, y_test_pred))"
   ]
  },
  {
   "cell_type": "code",
   "execution_count": 77,
   "metadata": {},
   "outputs": [
    {
     "name": "stdout",
     "output_type": "stream",
     "text": [
      "0.15478615071283094\n",
      "0.16872427983539096\n"
     ]
    }
   ],
   "source": [
    "mlp_model = MLPClassifier(hidden_layer_sizes = (100,100),\n",
    "                          solver = 'lbfgs', activation = 'logistic', random_state = 42)\n",
    "mlp_model.fit(X_train, y_train)\n",
    "\n",
    "y_train_pred = mlp_model.predict(X_train)\n",
    "y_test_pred = mlp_model.predict(X_test)\n",
    "print(np.mean(y_train != y_train_pred))\n",
    "print(np.mean(y_test != y_test_pred))"
   ]
  },
  {
   "cell_type": "markdown",
   "metadata": {},
   "source": [
    "При добавлении второго скрытого слоя показатель ошибки не улучшился.\n"
   ]
  },
  {
   "cell_type": "markdown",
   "metadata": {},
   "source": [
    "Определим теперь оптимальное число нейронов при одном скрытом слое."
   ]
  },
  {
   "cell_type": "code",
   "execution_count": 78,
   "metadata": {},
   "outputs": [],
   "source": [
    "neirons_arr = np.logspace(0, 3)\n",
    "test_err = []\n",
    "train_err = []\n",
    "for neiron in neirons_arr:\n",
    "    mlp_model = MLPClassifier(alpha = alpha_opt, hidden_layer_sizes = (int(neiron)), \n",
    "                              solver = 'lbfgs', activation = 'logistic', random_state = 42)\n",
    "    mlp_model.fit(X_train, y_train)\n",
    "\n",
    "    y_train_pred = mlp_model.predict(X_train)\n",
    "    y_test_pred = mlp_model.predict(X_test)\n",
    "    train_err.append(np.mean(y_train != y_train_pred))\n",
    "    test_err.append(np.mean(y_test != y_test_pred))"
   ]
  },
  {
   "cell_type": "code",
   "execution_count": 79,
   "metadata": {},
   "outputs": [
    {
     "data": {
      "image/png": "[encoded data removed]",
      "text/plain": [
       "<Figure size 432x288 with 1 Axes>"
      ]
     },
     "metadata": {},
     "output_type": "display_data"
    }
   ],
   "source": [
    "plt.semilogx(neirons_arr, train_err, 'b-o', label = 'test')\n",
    "plt.semilogx(neirons_arr, test_err, 'r-o', label = 'train')\n",
    "plt.xlim([np.max(neirons_arr), np.min(neirons_arr)])\n",
    "plt.title('Error vs. neirons')\n",
    "plt.xlabel('neirons')\n",
    "plt.ylabel('error')\n",
    "plt.legend()\n",
    "pass"
   ]
  },
  {
   "cell_type": "code",
   "execution_count": 80,
   "metadata": {},
   "outputs": [
    {
     "name": "stdout",
     "output_type": "stream",
     "text": [
      "(0.13034623217922606, 0.1728395061728395)\n"
     ]
    }
   ],
   "source": [
    "min_train_err = np.min(train_err)\n",
    "min_test_err = np.min(test_err)\n",
    "print(min_train_err, min_test_err)"
   ]
  },
  {
   "cell_type": "code",
   "execution_count": 81,
   "metadata": {},
   "outputs": [
    {
     "name": "stdout",
     "output_type": "stream",
     "text": [
      "[  8.28642773   9.54095476  44.98432669  68.6648845   79.06043211\n",
      "  91.0298178  104.81131342 120.67926406 138.94954944 184.20699693]\n"
     ]
    }
   ],
   "source": [
    "neirons_opt = neirons_arr[test_err == min_test_err]\n",
    "print(neirons_opt)"
   ]
  },
  {
   "cell_type": "code",
   "execution_count": 82,
   "metadata": {},
   "outputs": [],
   "source": [
    "neirons_opt = neirons_opt[0]"
   ]
  },
  {
   "cell_type": "code",
   "execution_count": 83,
   "metadata": {},
   "outputs": [],
   "source": [
    "neirons_opt = int(neirons_opt)"
   ]
  },
  {
   "cell_type": "markdown",
   "metadata": {},
   "source": [
    "Найдем также оптимальное значение alpha при заданном числе нейронов."
   ]
  },
  {
   "cell_type": "code",
   "execution_count": 84,
   "metadata": {},
   "outputs": [],
   "source": [
    "alpha_arr = np.logspace(-3, 2, 21)\n",
    "test_err = []\n",
    "train_err = []\n",
    "for alpha in alpha_arr:\n",
    "    mlp_model = MLPClassifier(alpha = alpha, hidden_layer_sizes = (neirons_opt), \n",
    "                              solver = 'lbfgs', activation = 'logistic', random_state = 42)\n",
    "    mlp_model.fit(X_train, y_train)\n",
    "\n",
    "    y_train_pred = mlp_model.predict(X_train)\n",
    "    y_test_pred = mlp_model.predict(X_test)\n",
    "    train_err.append(np.mean(y_train != y_train_pred))\n",
    "    test_err.append(np.mean(y_test != y_test_pred))"
   ]
  },
  {
   "cell_type": "code",
   "execution_count": 85,
   "metadata": {},
   "outputs": [
    {
     "data": {
      "image/png": "[encoded data removed]",
      "text/plain": [
       "<Figure size 432x288 with 1 Axes>"
      ]
     },
     "metadata": {},
     "output_type": "display_data"
    }
   ],
   "source": [
    "plt.semilogx(alpha_arr, train_err, 'b-o', label = 'test')\n",
    "plt.semilogx(alpha_arr, test_err, 'r-o', label = 'train')\n",
    "plt.xlim([np.max(alpha_arr), np.min(alpha_arr)])\n",
    "plt.title('Error vs. alpha')\n",
    "plt.xlabel('alpha')\n",
    "plt.ylabel('error')\n",
    "plt.legend()\n",
    "pass"
   ]
  },
  {
   "cell_type": "code",
   "execution_count": 86,
   "metadata": {},
   "outputs": [
    {
     "name": "stdout",
     "output_type": "stream",
     "text": [
      "(0.12830957230142567, 0.1646090534979424)\n"
     ]
    }
   ],
   "source": [
    "min_train_err = np.min(train_err)\n",
    "min_test_err = np.min(test_err)\n",
    "print(min_train_err, min_test_err)"
   ]
  },
  {
   "cell_type": "code",
   "execution_count": 87,
   "metadata": {},
   "outputs": [
    {
     "name": "stdout",
     "output_type": "stream",
     "text": [
      "[0.1]\n"
     ]
    }
   ],
   "source": [
    "alpha_opt = alpha_arr[test_err == min_test_err]\n",
    "print(alpha_opt)"
   ]
  },
  {
   "cell_type": "code",
   "execution_count": 88,
   "metadata": {},
   "outputs": [
    {
     "name": "stdout",
     "output_type": "stream",
     "text": [
      "0.14663951120162932\n",
      "0.1646090534979424\n"
     ]
    }
   ],
   "source": [
    "mlp_model = MLPClassifier(alpha = alpha_opt, hidden_layer_sizes = (neirons_opt),\n",
    "                          solver = 'lbfgs', activation = 'logistic', random_state = 42)\n",
    "mlp_model.fit(X_train, y_train)\n",
    "\n",
    "y_train_pred = mlp_model.predict(X_train)\n",
    "y_test_pred = mlp_model.predict(X_test)\n",
    "print(np.mean(y_train != y_train_pred))\n",
    "print(np.mean(y_test != y_test_pred))"
   ]
  },
  {
   "cell_type": "markdown",
   "metadata": {},
   "source": [
    "Таким образом, удалось улучшить качество обучения с помощью подбора оптимального числа нейронов и соответствующего оптимального значения alpha."
   ]
  },
  {
   "cell_type": "markdown",
   "metadata": {},
   "source": [
    "## Trees"
   ]
  },
  {
   "cell_type": "markdown",
   "metadata": {},
   "source": [
    "### Random forest"
   ]
  },
  {
   "cell_type": "code",
   "execution_count": 89,
   "metadata": {},
   "outputs": [],
   "source": [
    "from sklearn.model_selection import train_test_split\n",
    "X_train, X_test, y_train, y_test = train_test_split(X, y, test_size = 0.33, random_state = 42)"
   ]
  },
  {
   "cell_type": "markdown",
   "metadata": {},
   "source": [
    "Обучаем классификатор. Число деревьев = 10."
   ]
  },
  {
   "cell_type": "code",
   "execution_count": 90,
   "metadata": {},
   "outputs": [
    {
     "name": "stdout",
     "output_type": "stream",
     "text": [
      "(0.09572301425661914, 0.18106995884773663)\n"
     ]
    }
   ],
   "source": [
    "from sklearn import ensemble\n",
    "rf = ensemble.RandomForestClassifier(n_estimators = 10)\n",
    "rf.fit(X_train, y_train)\n",
    "\n",
    "err_train = np.mean(y_train != rf.predict(X_train))\n",
    "err_test  = np.mean(y_test  != rf.predict(X_test))\n",
    "\n",
    "print(err_train, err_test)"
   ]
  },
  {
   "cell_type": "markdown",
   "metadata": {},
   "source": [
    "Видим, что наблюдается переобучение.\n",
    "Построим зависимость ошибок на тестовой и обучающей выборках от числа используемых деревьев. Также построим OOB-ошибку.\n"
   ]
  },
  {
   "cell_type": "code",
   "execution_count": 112,
   "metadata": {},
   "outputs": [
    {
     "data": {
      "image/png": "[encoded data removed]",
      "text/plain": [
       "<Figure size 432x288 with 1 Axes>"
      ]
     },
     "metadata": {},
     "output_type": "display_data"
    }
   ],
   "source": [
    "trees_arr = np.arange(10, 500, 20)\n",
    "test_err = []\n",
    "train_err = []\n",
    "oob_err = []\n",
    "for trees in trees_arr:\n",
    "    rf = ensemble.RandomForestClassifier(n_estimators = trees, oob_score=True)\n",
    "    rf.fit(X_train, y_train)\n",
    "    \n",
    "    y_train_pred = rf.predict(X_train)\n",
    "    y_test_pred = rf.predict(X_test)\n",
    "    train_err.append(np.mean(y_train.values.ravel() != y_train_pred))\n",
    "    test_err.append(np.mean(y_test.values.ravel() != y_test_pred))\n",
    "    oob_err.append(1 - rf.oob_score_) \n",
    "    \n",
    "plt.plot(trees_arr, train_err, 'b-o', label = 'train')\n",
    "plt.plot(trees_arr, test_err, 'r-o', label = 'test')\n",
    "plt.plot(trees_arr, oob_err, 'g-o', label='oob')\n",
    "plt.xlim([np.max(trees_arr), np.min(trees_arr)])\n",
    "plt.title('Error vs. Trees')\n",
    "plt.xlabel('Trees')\n",
    "plt.ylabel('Error')\n",
    "plt.legend()\n",
    "pass"
   ]
  },
  {
   "cell_type": "markdown",
   "metadata": {},
   "source": [
    "Минимальная ошибка и число деревьев, соответствующее ей:"
   ]
  },
  {
   "cell_type": "code",
   "execution_count": 92,
   "metadata": {},
   "outputs": [
    {
     "name": "stdout",
     "output_type": "stream",
     "text": [
      "(0.0855397148676171, 0.17695473251028807)\n"
     ]
    }
   ],
   "source": [
    "min_train_err = np.min(train_err)\n",
    "min_test_err = np.min(test_err)\n",
    "print(min_train_err, min_test_err)"
   ]
  },
  {
   "cell_type": "code",
   "execution_count": 93,
   "metadata": {},
   "outputs": [
    {
     "name": "stdout",
     "output_type": "stream",
     "text": [
      "201\n"
     ]
    }
   ],
   "source": [
    "trees_opt = trees_arr[test_err == min_test_err]\n",
    "print(trees_opt[0])"
   ]
  },
  {
   "cell_type": "markdown",
   "metadata": {},
   "source": [
    "### Extremely Ramdom Forest\n"
   ]
  },
  {
   "cell_type": "code",
   "execution_count": 94,
   "metadata": {},
   "outputs": [
    {
     "name": "stdout",
     "output_type": "stream",
     "text": [
      "(0.0855397148676171, 0.18930041152263374)\n"
     ]
    }
   ],
   "source": [
    "from sklearn import ensemble\n",
    "ert = ensemble.ExtraTreesClassifier(n_estimators = 10)\n",
    "ert.fit(X_train, y_train)\n",
    "\n",
    "err_train = np.mean(y_train != ert.predict(X_train))\n",
    "err_test  = np.mean(y_test  != ert.predict(X_test))\n",
    "\n",
    "print(err_train, err_test)"
   ]
  },
  {
   "cell_type": "markdown",
   "metadata": {},
   "source": [
    "Нетрудно заметить, что вновь наблюдается переобучение."
   ]
  },
  {
   "cell_type": "code",
   "execution_count": 95,
   "metadata": {},
   "outputs": [
    {
     "data": {
      "image/png": "[encoded data removed]",
      "text/plain": [
       "<Figure size 432x288 with 1 Axes>"
      ]
     },
     "metadata": {},
     "output_type": "display_data"
    }
   ],
   "source": [
    "trees_arr = np.arange(1, 500, 40)\n",
    "test_err = []\n",
    "train_err = []\n",
    "oob_err = []\n",
    "for trees in trees_arr:\n",
    "    rf = ensemble.ExtraTreesClassifier(n_estimators = trees, oob_score=True,bootstrap=True)\n",
    "    rf.fit(X_train, y_train)\n",
    "    \n",
    "    y_train_pred = rf.predict(X_train)\n",
    "    y_test_pred = rf.predict(X_test)\n",
    "    train_err.append(np.mean(y_train.values.ravel() != y_train_pred))\n",
    "    test_err.append(np.mean(y_test.values.ravel() != y_test_pred))\n",
    "    oob_err.append(1 - rf.oob_score_) \n",
    "    \n",
    "plt.plot(trees_arr, train_err, 'b-o', label = 'train')\n",
    "plt.plot(trees_arr, test_err, 'r-o', label = 'test')\n",
    "plt.plot(trees_arr, oob_err, 'g-o', label='oob')\n",
    "plt.xlim([np.max(trees_arr), np.min(trees_arr)])\n",
    "plt.title('Error vs. Trees')\n",
    "plt.xlabel('Trees')\n",
    "plt.ylabel('Error')\n",
    "plt.legend()\n",
    "pass"
   ]
  },
  {
   "cell_type": "code",
   "execution_count": 96,
   "metadata": {},
   "outputs": [
    {
     "name": "stdout",
     "output_type": "stream",
     "text": [
      "(0.0855397148676171, 0.1728395061728395)\n"
     ]
    }
   ],
   "source": [
    "min_train_err = np.min(train_err)\n",
    "min_test_err = np.min(test_err)\n",
    "print(min_train_err, min_test_err)"
   ]
  },
  {
   "cell_type": "code",
   "execution_count": 97,
   "metadata": {},
   "outputs": [
    {
     "name": "stdout",
     "output_type": "stream",
     "text": [
      "41\n"
     ]
    }
   ],
   "source": [
    "trees_opt = trees_arr[test_err == min_test_err]\n",
    "print(trees_opt[0])"
   ]
  },
  {
   "cell_type": "markdown",
   "metadata": {},
   "source": [
    "### AdaBoost\n"
   ]
  },
  {
   "cell_type": "code",
   "execution_count": 98,
   "metadata": {},
   "outputs": [
    {
     "name": "stdout",
     "output_type": "stream",
     "text": [
      "(0.1690427698574338, 0.19753086419753085)\n"
     ]
    }
   ],
   "source": [
    "ab = ensemble.AdaBoostClassifier(n_estimators = 10)\n",
    "ab.fit(X_train, y_train)\n",
    "\n",
    "err_train = np.mean(y_train != ab.predict(X_train))\n",
    "err_test  = np.mean(y_test  != ab.predict(X_test))\n",
    "\n",
    "print(err_train, err_test)"
   ]
  },
  {
   "cell_type": "markdown",
   "metadata": {},
   "source": [
    "Переобучение вновь наблюдается."
   ]
  },
  {
   "cell_type": "code",
   "execution_count": 99,
   "metadata": {},
   "outputs": [
    {
     "data": {
      "image/png": "[encoded data removed]",
      "text/plain": [
       "<Figure size 432x288 with 1 Axes>"
      ]
     },
     "metadata": {},
     "output_type": "display_data"
    }
   ],
   "source": [
    "trees_arr = np.arange(1, 500, 40)\n",
    "test_err = []\n",
    "train_err = []\n",
    "oob_err = []\n",
    "for trees in trees_arr:\n",
    "    rf = ensemble.AdaBoostClassifier(n_estimators = trees)\n",
    "    rf.fit(X_train, y_train)\n",
    "    \n",
    "    y_train_pred = rf.predict(X_train)\n",
    "    y_test_pred = rf.predict(X_test)\n",
    "    train_err.append(np.mean(y_train.values.ravel() != y_train_pred))\n",
    "    test_err.append(np.mean(y_test.values.ravel() != y_test_pred))\n",
    "    \n",
    "plt.plot(trees_arr, train_err, 'b-o', label = 'train')\n",
    "plt.plot(trees_arr, test_err, 'r-o', label = 'test')\n",
    "plt.xlim([np.max(trees_arr), np.min(trees_arr)])\n",
    "plt.title('Error vs. Trees')\n",
    "plt.xlabel('Trees')\n",
    "plt.ylabel('Error')\n",
    "plt.legend()\n",
    "pass"
   ]
  },
  {
   "cell_type": "code",
   "execution_count": 100,
   "metadata": {},
   "outputs": [
    {
     "name": "stdout",
     "output_type": "stream",
     "text": [
      "(0.11812627291242363, 0.1646090534979424)\n"
     ]
    }
   ],
   "source": [
    "min_train_err = np.min(train_err)\n",
    "min_test_err = np.min(test_err)\n",
    "print(min_train_err, min_test_err)"
   ]
  },
  {
   "cell_type": "code",
   "execution_count": 101,
   "metadata": {},
   "outputs": [
    {
     "name": "stdout",
     "output_type": "stream",
     "text": [
      "241\n"
     ]
    }
   ],
   "source": [
    "trees_opt = trees_arr[test_err == min_test_err]\n",
    "print(trees_opt[0])"
   ]
  },
  {
   "cell_type": "markdown",
   "metadata": {},
   "source": [
    "### Gradient boosted trees"
   ]
  },
  {
   "cell_type": "code",
   "execution_count": 102,
   "metadata": {},
   "outputs": [
    {
     "name": "stdout",
     "output_type": "stream",
     "text": [
      "(0.12423625254582485, 0.1728395061728395)\n"
     ]
    }
   ],
   "source": [
    "gbt =  ensemble.GradientBoostingClassifier(n_estimators = 100)\n",
    "gbt.fit(X_train, y_train)\n",
    "\n",
    "err_train = np.mean(y_train != gbt.predict(X_train))\n",
    "err_test  = np.mean(y_test  != gbt.predict(X_test))\n",
    "\n",
    "print(err_train, err_test)"
   ]
  },
  {
   "cell_type": "markdown",
   "metadata": {},
   "source": [
    "И в данном случае опять наблюдаем небольшое переобучение. Подбираем параметры:"
   ]
  },
  {
   "cell_type": "code",
   "execution_count": 103,
   "metadata": {},
   "outputs": [
    {
     "data": {
      "image/png": "[encoded data removed]",
      "text/plain": [
       "<Figure size 432x288 with 1 Axes>"
      ]
     },
     "metadata": {},
     "output_type": "display_data"
    }
   ],
   "source": [
    "trees_arr = np.arange(1, 1000, 40)\n",
    "test_err = []\n",
    "train_err = []\n",
    "oob_err = []\n",
    "for trees in trees_arr:\n",
    "    rf = ensemble.GradientBoostingClassifier(n_estimators = trees)\n",
    "    rf.fit(X_train, y_train)\n",
    "    \n",
    "    y_train_pred = rf.predict(X_train)\n",
    "    y_test_pred = rf.predict(X_test)\n",
    "    train_err.append(np.mean(y_train.values.ravel() != y_train_pred))\n",
    "    test_err.append(np.mean(y_test.values.ravel() != y_test_pred))\n",
    "    \n",
    "plt.plot(trees_arr, train_err, 'b-o', label = 'train')\n",
    "plt.plot(trees_arr, test_err, 'r-o', label = 'test')\n",
    "plt.xlim([np.max(trees_arr), np.min(trees_arr)])\n",
    "plt.title('Error vs. Trees')\n",
    "plt.xlabel('Trees')\n",
    "plt.ylabel('Error')\n",
    "plt.legend()\n",
    "pass"
   ]
  },
  {
   "cell_type": "code",
   "execution_count": 104,
   "metadata": {},
   "outputs": [
    {
     "name": "stdout",
     "output_type": "stream",
     "text": [
      "(0.0855397148676171, 0.1646090534979424)\n"
     ]
    }
   ],
   "source": [
    "min_train_err = np.min(train_err)\n",
    "min_test_err = np.min(test_err)\n",
    "print(min_train_err, min_test_err)"
   ]
  },
  {
   "cell_type": "code",
   "execution_count": 105,
   "metadata": {},
   "outputs": [
    {
     "name": "stdout",
     "output_type": "stream",
     "text": [
      "281\n"
     ]
    }
   ],
   "source": [
    "trees_opt = trees_arr[test_err == min_test_err]\n",
    "print(trees_opt[0])"
   ]
  },
  {
   "cell_type": "markdown",
   "metadata": {},
   "source": [
    "Замечаем, что с ростом числа деревьев переобучение становится более выраженным.\n",
    "Таким образом, на всех методах был выявлен эффект переобучения, наименьшая ошибка достигалась при использовании метода AdaBoost  и составила 16,46%."
   ]
  },
  {
   "cell_type": "markdown",
   "metadata": {},
   "source": [
    "## Метод главных компонент"
   ]
  },
  {
   "cell_type": "code",
   "execution_count": 106,
   "metadata": {},
   "outputs": [
    {
     "data": {
      "text/plain": [
       "(734, 64)"
      ]
     },
     "execution_count": 106,
     "metadata": {},
     "output_type": "execute_result"
    }
   ],
   "source": [
    "X.shape"
   ]
  },
  {
   "cell_type": "markdown",
   "metadata": {},
   "source": [
    "Исходные данные содержат 64 столбца.\n",
    "Применим PCA для сокращения размерности пространства признаков, построим график зависимости ошибки от количества компонент. В качестве классификатора будем использовать метод Gradient Boosted Trees."
   ]
  },
  {
   "cell_type": "code",
   "execution_count": 107,
   "metadata": {},
   "outputs": [],
   "source": [
    "from sklearn import decomposition \n",
    "pca = decomposition.PCA(n_components = 10)\n",
    "X_train_reduc = pca.fit_transform(X_train)\n",
    "X_test_reduc = pca.transform(X_test)"
   ]
  },
  {
   "cell_type": "code",
   "execution_count": 108,
   "metadata": {},
   "outputs": [
    {
     "data": {
      "image/png": "[encoded data removed]",
      "text/plain": [
       "<Figure size 432x288 with 1 Axes>"
      ]
     },
     "metadata": {},
     "output_type": "display_data"
    }
   ],
   "source": [
    "from sklearn import decomposition \n",
    "n_components = range(1,64)\n",
    "test_err = []\n",
    "train_err = []\n",
    "oob_err = []\n",
    "for components in n_components:\n",
    "    pca = decomposition.PCA(n_components = components)\n",
    "    X_train_reduc = pca.fit_transform(X_train)\n",
    "    X_test_reduc = pca.transform(X_test)\n",
    "    rf = ensemble.GradientBoostingClassifier(n_estimators = 200)\n",
    "    rf.fit(X_train, y_train)\n",
    "    y_train_pred = rf.predict(X_train)\n",
    "    y_test_pred = rf.predict(X_test)\n",
    "    train_err.append(np.mean(y_train.values.ravel() != y_train_pred))\n",
    "    test_err.append(np.mean(y_test.values.ravel() != y_test_pred))\n",
    "    \n",
    "plt.plot(n_components, train_err, 'b-o', label = 'train')\n",
    "plt.plot(n_components, test_err, 'r-o', label = 'test')\n",
    "plt.xlim([np.max(n_components), np.min(n_components)])\n",
    "plt.title('Error vs. Components')\n",
    "plt.xlabel('Components')\n",
    "plt.ylabel('Error')\n",
    "plt.legend()\n",
    "pass"
   ]
  },
  {
   "cell_type": "markdown",
   "metadata": {},
   "source": [
    "Уменьшение компонент не оказывает значительного влияния на значение ошибки при данном методе.\n",
    "Минимальная ошибка на обучающей и тестовой выборках:"
   ]
  },
  {
   "cell_type": "code",
   "execution_count": 113,
   "metadata": {},
   "outputs": [
    {
     "name": "stdout",
     "output_type": "stream",
     "text": [
      "(0.0855397148676171, 0.16872427983539096)\n"
     ]
    }
   ],
   "source": [
    "min_train_err = np.min(train_err)\n",
    "min_test_err = np.min(test_err)\n",
    "print(min_train_err, min_test_err)"
   ]
  },
  {
   "cell_type": "markdown",
   "metadata": {},
   "source": [
    "Оптимальное число компонент:"
   ]
  },
  {
   "cell_type": "code",
   "execution_count": 114,
   "metadata": {},
   "outputs": [
    {
     "name": "stdout",
     "output_type": "stream",
     "text": [
      "4\n"
     ]
    }
   ],
   "source": [
    "print(test_err.index(np.min(test_err)) + 1)"
   ]
  },
  {
   "cell_type": "code",
   "execution_count": null,
   "metadata": {},
   "outputs": [],
   "source": []
  }
 ],
 "metadata": {
  "kernelspec": {
   "display_name": "Python 2",
   "language": "python",
   "name": "python2"
  },
  "language_info": {
   "codemirror_mode": {
    "name": "ipython",
    "version": 2
   },
   "file_extension": ".py",
   "mimetype": "text/x-python",
   "name": "python",
   "nbconvert_exporter": "python",
   "pygments_lexer": "ipython2",
   "version": "2.7.15"
  }
 },
 "nbformat": 4,
 "nbformat_minor": 2
}
